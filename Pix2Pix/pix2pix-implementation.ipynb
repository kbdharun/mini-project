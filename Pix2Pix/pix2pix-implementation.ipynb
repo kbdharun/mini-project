{
 "cells": [
  {
   "cell_type": "markdown",
   "id": "5990392c",
   "metadata": {},
   "source": [
    "# Pix2Pix GAN Implementation on Cyclone Dataset\n",
    "\n",
    "# Objectives\n",
    "\n",
    "- To implement a Generative Adversarial Network based approach to generate high resolution passive microwave rainfall images from satellite infrared images.\n",
    "\n",
    "- To compare the performance of proposed model with existing models.\n",
    "\n",
    "- To investigate and identify the challenges involved in using infrared imagery which is readily available from satellite sources, to generate passive microwave images."
   ]
  },
  {
   "cell_type": "markdown",
   "id": "74509fef",
   "metadata": {
    "papermill": {
     "duration": 0.004571,
     "end_time": "2024-03-05T08:07:11.605273",
     "exception": false,
     "start_time": "2024-03-05T08:07:11.600702",
     "status": "completed"
    },
    "tags": []
   },
   "source": [
    "# Data Preparation - Preprocessing the images\n",
    "\n",
    "- The dataset used has paired images, so the image has to be split into the corresponding halves pertaining to each domain (Infrared and Passive Microwave Rainfall).\n",
    "- The split images are to be resized to 256x256, reshaped to have depth of 3 (for RGB channels) and stored separately.\n",
    "- The processed images are then stored into a `.npz` Numpy array file for later usage."
   ]
  },
  {
   "cell_type": "code",
   "execution_count": 1,
   "id": "92fd4f63",
   "metadata": {
    "_cell_guid": "b1076dfc-b9ad-4769-8c92-a6c4dae69d19",
    "_uuid": "8f2839f25d086af736a60e9eeb907d3b93b6e0e5",
    "execution": {
     "iopub.execute_input": "2024-03-05T08:07:11.617012Z",
     "iopub.status.busy": "2024-03-05T08:07:11.616418Z",
     "iopub.status.idle": "2024-03-05T08:07:25.906357Z",
     "shell.execute_reply": "2024-03-05T08:07:25.905153Z"
    },
    "papermill": {
     "duration": 14.298951,
     "end_time": "2024-03-05T08:07:25.909076",
     "exception": false,
     "start_time": "2024-03-05T08:07:11.610125",
     "status": "completed"
    },
    "tags": []
   },
   "outputs": [
    {
     "name": "stdout",
     "output_type": "stream",
     "text": [
      "Loaded (10, 256, 256, 3) (10, 256, 256, 3)\n",
      "Saved dataset:  pmwtoir1_256.npz\n"
     ]
    }
   ],
   "source": [
    "import cv2\n",
    "import os\n",
    "import numpy as np\n",
    "\n",
    "from numpy import savez_compressed\n",
    "from keras_preprocessing.image import img_to_array\n",
    "from keras_preprocessing.image import load_img\n",
    "\n",
    "# For older version of Keras/Tensorflow\n",
    "# from keras.preprocessing.image import img_to_array\n",
    "# from keras.preprocessing.image import load_img\n",
    "\n",
    "# Define the path to directory\n",
    "directory = 'C:\\\\Users\\\\kbdha\\\\Downloads\\\\mini-project\\\\TCIRRP\\\\train0.01k'\n",
    "\n",
    "# Get a list of all the file paths that are in the directory\n",
    "image_paths = [os.path.join(directory, img) for img in os.listdir(directory)]\n",
    "\n",
    "# Load the images\n",
    "images = np.array([cv2.imread(img_path) for img_path in image_paths])\n",
    "\n",
    "pmw = []\n",
    "ir = []\n",
    "\n",
    "# Process each image\n",
    "for i in range(len(images)):\n",
    "    # Split the image into two halves\n",
    "    image1 = images[i][0:201, 0:201]\n",
    "    image2 = images[i][0:201, 201:402]\n",
    "\n",
    "    # Resize the images to 256x256\n",
    "    image1 = cv2.resize(image1, (256, 256))\n",
    "    image2 = cv2.resize(image2, (256, 256))\n",
    "\n",
    "    # Reshape the images\n",
    "    image1 = image1.reshape(256, 256, 3)\n",
    "    image2 = image2.reshape(256, 256, 3)\n",
    "\n",
    "    # Append the images to the respective lists\n",
    "    pmw.append(image1)\n",
    "    ir.append(image2)\n",
    "\n",
    "# Convert the lists to numpy arrays\n",
    "pmw = np.array(pmw)\n",
    "ir = np.array(ir)\n",
    "\n",
    "# Print the shapes of the arrays\n",
    "print(\"Loaded\", pmw.shape, ir.shape)\n",
    "\n",
    "# Save the arrays as a compressed numpy array\n",
    "filename = 'pmwtoir1_256.npz'\n",
    "savez_compressed(filename, ir, pmw)\n",
    "\n",
    "print('Saved dataset: ', filename)"
   ]
  },
  {
   "cell_type": "markdown",
   "id": "48df325a",
   "metadata": {
    "papermill": {
     "duration": 0.004725,
     "end_time": "2024-03-05T08:07:25.919328",
     "exception": false,
     "start_time": "2024-03-05T08:07:25.914603",
     "status": "completed"
    },
    "tags": []
   },
   "source": [
    "# Defining the architecture "
   ]
  },
  {
   "cell_type": "code",
   "execution_count": 2,
   "id": "146624a1",
   "metadata": {
    "execution": {
     "iopub.execute_input": "2024-03-05T08:07:25.932000Z",
     "iopub.status.busy": "2024-03-05T08:07:25.930781Z",
     "iopub.status.idle": "2024-03-05T08:07:25.953779Z",
     "shell.execute_reply": "2024-03-05T08:07:25.952602Z"
    },
    "papermill": {
     "duration": 0.031505,
     "end_time": "2024-03-05T08:07:25.955902",
     "exception": false,
     "start_time": "2024-03-05T08:07:25.924397",
     "status": "completed"
    },
    "tags": []
   },
   "outputs": [],
   "source": [
    "# Importing packages\n",
    "from numpy import load\n",
    "from numpy import zeros\n",
    "from numpy import ones\n",
    "from numpy.random import randint\n",
    "from keras.optimizers import Adam\n",
    "from keras.initializers import RandomNormal\n",
    "from keras.models import Model\n",
    "from keras.layers import Input\n",
    "from keras.layers import Conv2D\n",
    "from keras.layers import Conv2DTranspose\n",
    "from keras.layers import LeakyReLU\n",
    "from keras.layers import Activation\n",
    "from keras.layers import Concatenate\n",
    "from keras.layers import Dropout\n",
    "from keras.layers import BatchNormalization\n",
    "from keras.utils import plot_model\n",
    "from matplotlib import pyplot"
   ]
  },
  {
   "cell_type": "markdown",
   "id": "1f136025",
   "metadata": {},
   "source": [
    "# Defining the Discriminator Model\n",
    "\n",
    "The discriminator takes a source image and a target image as input, concatenates them, and passes them through several convolutional layers. Each convolutional layer is followed by a batch normalization (except the first one) and a LeakyReLU activation. The output of the model is a patch output, which is a high-level feature representation of the input images. The model is compiled with the Adam optimizer and binary cross entropy loss."
   ]
  },
  {
   "cell_type": "code",
   "execution_count": 3,
   "id": "214d1917",
   "metadata": {},
   "outputs": [],
   "source": [
    "# Define the discriminator model\n",
    "def define_discriminator(image_shape):\n",
    "    # Initialize weights with a small Gaussian distribution\n",
    "    init = RandomNormal(stddev=0.02)\n",
    "\n",
    "    # Define input for source image\n",
    "    in_src_image = Input(shape=image_shape)\n",
    "\n",
    "    # Define input for target image\n",
    "    in_target_image = Input(shape=image_shape)\n",
    "\n",
    "    # Concatenate source and target images channel-wise\n",
    "    merged = Concatenate()([in_src_image, in_target_image])\n",
    "\n",
    "    # Convolutional layer with 64 filters, followed by LeakyReLU activation\n",
    "    d = Conv2D(64, (4,4), strides=(2,2), padding='same', kernel_initializer=init)(merged)\n",
    "    d = LeakyReLU(alpha=0.2)(d)\n",
    "\n",
    "    # Convolutional layer with 128 filters, followed by BatchNormalization and LeakyReLU activation\n",
    "    d = Conv2D(128, (4,4), strides=(2,2), padding='same', kernel_initializer=init)(d)\n",
    "    d = BatchNormalization()(d)\n",
    "    d = LeakyReLU(alpha=0.2)(d)\n",
    "\n",
    "    # Convolutional layer with 256 filters, followed by BatchNormalization and LeakyReLU activation\n",
    "    d = Conv2D(256, (4,4), strides=(2,2), padding='same', kernel_initializer=init)(d)\n",
    "    d = BatchNormalization()(d)\n",
    "    d = LeakyReLU(alpha=0.2)(d)\n",
    "\n",
    "    # Convolutional layer with 512 filters, followed by BatchNormalization and LeakyReLU activation\n",
    "    d = Conv2D(512, (4,4), strides=(2,2), padding='same', kernel_initializer=init)(d)\n",
    "    d = BatchNormalization()(d)\n",
    "    d = LeakyReLU(alpha=0.2)(d)\n",
    "\n",
    "    # Second last output layer\n",
    "    d = Conv2D(512, (4,4), padding='same', kernel_initializer=init)(d)\n",
    "    d = BatchNormalization()(d)\n",
    "    d = LeakyReLU(alpha=0.2)(d)\n",
    "\n",
    "    # Patch output\n",
    "    d = Conv2D(1, (4,4), padding='same', kernel_initializer=init)(d)\n",
    "    patch_out = Activation('sigmoid')(d)\n",
    "\n",
    "    # Define the model\n",
    "    model = Model([in_src_image, in_target_image], patch_out)\n",
    "\n",
    "    # Compile the model with Adam optimizer and binary cross entropy loss\n",
    "    opt = Adam(learning_rate=0.0002, beta_1=0.5)\n",
    "    # model.compile(loss='binary_crossentropy', optimizer=opt, loss_weights=[0.5])\n",
    "    model.compile(loss='binary_crossentropy', optimizer=opt)\n",
    "\n",
    "    return model"
   ]
  },
  {
   "cell_type": "markdown",
   "id": "cc7a0097",
   "metadata": {},
   "source": [
    "# Defining the Encoder Block for Generator Model\n",
    "\n",
    "The encoder block consists of a convolutional layer for downsampling the input, followed by an optional batch normalization layer, and a LeakyReLU activation function. The purpose of the encoder block is to extract and downsample features from the input image."
   ]
  },
  {
   "cell_type": "code",
   "execution_count": 4,
   "id": "d2dd1147",
   "metadata": {},
   "outputs": [],
   "source": [
    "def define_encoder_block(layer_in, n_filters, batchnorm=True):\n",
    "    # Initialize weights with a small Gaussian distribution\n",
    "    init = RandomNormal(stddev=0.02)\n",
    "\n",
    "    # Add a downsampling layer: a convolutional layer with stride 2\n",
    "    g = Conv2D(n_filters, (4,4), strides=(2,2), padding='same', kernel_initializer=init)(layer_in)\n",
    "\n",
    "    # Conditionally add batch normalization\n",
    "    if batchnorm:\n",
    "        g = BatchNormalization()(g, training=True)\n",
    "\n",
    "    # Add LeakyReLU activation with slope 0.2\n",
    "    g = LeakyReLU(alpha=0.2)(g)\n",
    "\n",
    "    return g"
   ]
  },
  {
   "cell_type": "markdown",
   "id": "6cda16be",
   "metadata": {},
   "source": [
    "# Defining the Decoder Block for Generator model\n",
    "\n",
    "The decoder block consists of a transposed convolutional layer for upsampling the input, a batch normalization layer, an optional dropout layer, and a ReLU activation function. The decoder block also includes a skip connection, which merges the output of the corresponding encoder block with the output of the decoder block. This helps the generator model to better capture the details of the input image."
   ]
  },
  {
   "cell_type": "code",
   "execution_count": 5,
   "id": "3126926b",
   "metadata": {},
   "outputs": [],
   "source": [
    "def decoder_block(layer_in, skip_in, n_filters, dropout=True):\n",
    "    # Initialize weights with a small Gaussian distribution\n",
    "    init = RandomNormal(stddev=0.02)\n",
    "\n",
    "    # Add an upsampling layer: a transposed convolutional layer with stride 2\n",
    "    g = Conv2DTranspose(n_filters, (4,4), strides=(2,2), padding='same', kernel_initializer=init)(layer_in)\n",
    "\n",
    "    # Add batch normalization\n",
    "    g = BatchNormalization()(g, training=True)\n",
    "\n",
    "    # Conditionally add dropout with rate 0.5\n",
    "    if dropout:\n",
    "        g = Dropout(0.5)(g, training=True)\n",
    "\n",
    "    # Merge this layer with the skip-connected layer\n",
    "    g = Concatenate()([g, skip_in])\n",
    "\n",
    "    # Add ReLU activation\n",
    "    g = Activation('relu')(g)\n",
    "\n",
    "    return g"
   ]
  },
  {
   "cell_type": "markdown",
   "id": "22fd69f3",
   "metadata": {},
   "source": [
    "# Defining the Generator Model\n",
    "\n",
    "The generator model is an encoder-decoder model, where the encoder extracts features from the input image and the decoder upsamples these features to generate a new image. The generator also includes skip connections between the encoder and decoder blocks, which help to preserve the details of the input image in the generated image. The output of the generator is an image with the same dimensions as the input image."
   ]
  },
  {
   "cell_type": "code",
   "execution_count": 6,
   "id": "1659e591",
   "metadata": {},
   "outputs": [],
   "source": [
    "# Define the standalone generator model\n",
    "def define_generator(image_shape=(256,256,3)):\n",
    "    # Initialize weights with a small Gaussian distribution\n",
    "    init = RandomNormal(stddev=0.02)\n",
    "\n",
    "    # Define input for the image\n",
    "    in_image = Input(shape=image_shape)\n",
    "\n",
    "    # Define encoder blocks\n",
    "    e1 = define_encoder_block(in_image, 64, batchnorm=False)\n",
    "    e2 = define_encoder_block(e1, 128)\n",
    "    e3 = define_encoder_block(e2, 256)\n",
    "    e4 = define_encoder_block(e3, 512)\n",
    "    e5 = define_encoder_block(e4, 512)\n",
    "    e6 = define_encoder_block(e5, 512)\n",
    "    e7 = define_encoder_block(e6, 512)\n",
    "\n",
    "    # Bottleneck layer with no batch normalization and ReLU activation\n",
    "    b = Conv2D(512, (4,4), strides=(2,2), padding='same', kernel_initializer=init)(e7)\n",
    "    b = Activation('relu')(b)\n",
    "\n",
    "    # Define decoder blocks\n",
    "    d1 = decoder_block(b, e7, 512)\n",
    "    d2 = decoder_block(d1, e6, 512)\n",
    "    d3 = decoder_block(d2, e5, 512)\n",
    "    d4 = decoder_block(d3, e4, 512, dropout=False)\n",
    "    d5 = decoder_block(d4, e3, 256, dropout=False)\n",
    "    d6 = decoder_block(d5, e2, 128, dropout=False)\n",
    "    d7 = decoder_block(d6, e1, 64, dropout=False)\n",
    "\n",
    "    # Output layer with tanh activation\n",
    "    g = Conv2DTranspose(3, (4,4), strides=(2,2), padding='same', kernel_initializer=init)(d7)\n",
    "    out_image = Activation('tanh')(g)\n",
    "\n",
    "    # Define the model\n",
    "    model = Model(in_image, out_image)\n",
    "\n",
    "    return model"
   ]
  },
  {
   "cell_type": "markdown",
   "id": "7baa0f4c",
   "metadata": {
    "papermill": {
     "duration": 0.004722,
     "end_time": "2024-03-05T08:07:25.965790",
     "exception": false,
     "start_time": "2024-03-05T08:07:25.961068",
     "status": "completed"
    },
    "tags": []
   },
   "source": [
    "# Defining the Composite Model\n",
    "\n",
    "The combined model is used for updating the generator. The discriminator's weights are frozen during the generator update. The model takes a source image as input and outputs a generated image and a classification output. The model is compiled with the Adam optimizer, binary cross entropy loss for the discriminator, and mean absolute error loss for the generator. The loss weights indicate that the generator's loss has 100 times more impact on the total loss than the discriminator's loss."
   ]
  },
  {
   "cell_type": "code",
   "execution_count": 7,
   "id": "295b8291",
   "metadata": {
    "execution": {
     "iopub.execute_input": "2024-03-05T08:07:25.977779Z",
     "iopub.status.busy": "2024-03-05T08:07:25.977097Z",
     "iopub.status.idle": "2024-03-05T08:07:25.984152Z",
     "shell.execute_reply": "2024-03-05T08:07:25.982970Z"
    },
    "papermill": {
     "duration": 0.015283,
     "end_time": "2024-03-05T08:07:25.986300",
     "exception": false,
     "start_time": "2024-03-05T08:07:25.971017",
     "status": "completed"
    },
    "tags": []
   },
   "outputs": [],
   "source": [
    "def define_gan(g_model, d_model, image_shape):\n",
    "    # Make weights in the discriminator not trainable, except for BatchNormalization layers\n",
    "    for layer in d_model.layers:\n",
    "        if not isinstance(layer, BatchNormalization):\n",
    "            layer.trainable = False\n",
    "\n",
    "    # Define the source image\n",
    "    in_src = Input(shape=image_shape)\n",
    "\n",
    "    # Connect the source image to the generator input\n",
    "    gen_out = g_model(in_src)\n",
    "\n",
    "    # Connect the source input and generator output to the discriminator input\n",
    "    dis_out = d_model([in_src, gen_out])\n",
    "\n",
    "    # Define the model with source image as input and generated image and classification output\n",
    "    model = Model(in_src, [dis_out, gen_out])\n",
    "\n",
    "    # Compile the model with Adam optimizer, binary cross entropy and mean absolute error loss\n",
    "    opt = Adam(learning_rate=0.0002, beta_1=0.5)\n",
    "    model.compile(loss=['binary_crossentropy', 'mae'], optimizer=opt, loss_weights=[1.0,100.0])\n",
    "\n",
    "    return model"
   ]
  },
  {
   "cell_type": "markdown",
   "id": "4549c278",
   "metadata": {
    "papermill": {
     "duration": 0.004823,
     "end_time": "2024-03-05T08:07:25.996248",
     "exception": false,
     "start_time": "2024-03-05T08:07:25.991425",
     "status": "completed"
    },
    "tags": []
   },
   "source": [
    "# Defining helper functions for easy image access\n",
    "\n",
    "These functions are used to load and prepare the training images for a Pix2Pix GAN.\n",
    "\n",
    "- `load_real_samples` function loads the training images from a file and scales the pixel values from the range [0,255] to the range [-1,1].\n",
    "- `generate_real_samples` function selects a batch of random samples from the training images and generates corresponding 'real' class labels.\n",
    "- `generate_fake_samples` function uses the generator model to generate a batch of fake images and creates corresponding 'fake' class labels."
   ]
  },
  {
   "cell_type": "code",
   "execution_count": 8,
   "id": "be7d9ff0",
   "metadata": {
    "execution": {
     "iopub.execute_input": "2024-03-05T08:07:26.008444Z",
     "iopub.status.busy": "2024-03-05T08:07:26.008072Z",
     "iopub.status.idle": "2024-03-05T08:07:26.015655Z",
     "shell.execute_reply": "2024-03-05T08:07:26.014589Z"
    },
    "papermill": {
     "duration": 0.016499,
     "end_time": "2024-03-05T08:07:26.017874",
     "exception": false,
     "start_time": "2024-03-05T08:07:26.001375",
     "status": "completed"
    },
    "tags": []
   },
   "outputs": [],
   "source": [
    "# Load and prepare training images\n",
    "def load_real_samples(filename):\n",
    "    # Load compressed arrays\n",
    "    data = load(filename)\n",
    "    \n",
    "    # Unpack arrays\n",
    "    X1, X2 = data['arr_0'], data['arr_1']\n",
    "    \n",
    "    # Scale from [0,255] to [-1,1]\n",
    "    X1 = (X1 - 127.5) / 127.5\n",
    "    X2 = (X2 - 127.5) / 127.5\n",
    "    \n",
    "    return [X1, X2]\n",
    " \n",
    "# Select a batch of random samples, returns images and target\n",
    "def generate_real_samples(dataset, n_samples, patch_shape):\n",
    "    # Unpack dataset\n",
    "    trainA, trainB = dataset\n",
    "    \n",
    "    # Choose random instances\n",
    "    ix = randint(0, trainA.shape[0], n_samples)\n",
    "    \n",
    "    # Retrieve selected images\n",
    "    X1, X2 = trainA[ix], trainB[ix]\n",
    "    \n",
    "    # Generate 'real' class labels (1)\n",
    "    y = ones((n_samples, patch_shape, patch_shape, 1))\n",
    "    \n",
    "    return [X1, X2], y\n",
    " \n",
    "# Generate a batch of images, returns images and targets\n",
    "def generate_fake_samples(g_model, samples, patch_shape):\n",
    "    # Generate fake instance\n",
    "    X = g_model.predict(samples)\n",
    "    \n",
    "    # Create 'fake' class labels (0)\n",
    "    y = zeros((len(X), patch_shape, patch_shape, 1))\n",
    "    \n",
    "    return X, y"
   ]
  },
  {
   "cell_type": "markdown",
   "id": "81870a3a",
   "metadata": {
    "papermill": {
     "duration": 0.004849,
     "end_time": "2024-03-05T08:07:26.027957",
     "exception": false,
     "start_time": "2024-03-05T08:07:26.023108",
     "status": "completed"
    },
    "tags": []
   },
   "source": [
    "# Summarizing the performance\n",
    "\n",
    "- `summarize_performance` function generates a batch of real and fake samples, plots them, and saves the plot and the generator model to files. The plots provide a visual progress of the training process.\n",
    "- `save_models` function saves the generator model to a file. This allows the training process to be resumed at a later time, or the trained model to be used to generate new images."
   ]
  },
  {
   "cell_type": "code",
   "execution_count": 9,
   "id": "16c500f6",
   "metadata": {
    "execution": {
     "iopub.execute_input": "2024-03-05T08:07:26.040001Z",
     "iopub.status.busy": "2024-03-05T08:07:26.039492Z",
     "iopub.status.idle": "2024-03-05T08:07:26.048322Z",
     "shell.execute_reply": "2024-03-05T08:07:26.047589Z"
    },
    "papermill": {
     "duration": 0.017165,
     "end_time": "2024-03-05T08:07:26.050232",
     "exception": false,
     "start_time": "2024-03-05T08:07:26.033067",
     "status": "completed"
    },
    "tags": []
   },
   "outputs": [],
   "source": [
    "# Generate samples, save them as a plot, and save the model\n",
    "def summarize_performance(step, g_model, dataset, n_samples=3):\n",
    "    # Select a sample of input images\n",
    "    [X_realA, X_realB], _ = generate_real_samples(dataset, n_samples, 1)\n",
    "    \n",
    "    # Generate a batch of fake samples\n",
    "    X_fakeB, _ = generate_fake_samples(g_model, X_realA, 1)\n",
    "    \n",
    "    # Scale all pixels from [-1,1] to [0,1]\n",
    "    X_realA = (X_realA + 1) / 2.0\n",
    "    X_realB = (X_realB + 1) / 2.0\n",
    "    X_fakeB = (X_fakeB + 1) / 2.0\n",
    "    \n",
    "    # Plot real source images\n",
    "    for i in range(n_samples):\n",
    "        pyplot.subplot(3, n_samples, 1 + i)\n",
    "        pyplot.axis('off')\n",
    "        pyplot.imshow(X_realA[i])\n",
    "    \n",
    "    # Plot generated target image\n",
    "    for i in range(n_samples):\n",
    "        pyplot.subplot(3, n_samples, 1 + n_samples + i)\n",
    "        pyplot.axis('off')\n",
    "        pyplot.imshow(X_fakeB[i])\n",
    "    \n",
    "    # Plot real target image\n",
    "    for i in range(n_samples):\n",
    "        pyplot.subplot(3, n_samples, 1 + n_samples*2 + i)\n",
    "        pyplot.axis('off')\n",
    "        pyplot.imshow(X_realB[i])\n",
    "    \n",
    "    # Save plot to file\n",
    "    filename1 = 'plot_%06d.png' % (step+1)\n",
    "    pyplot.savefig(filename1)\n",
    "    pyplot.close()\n",
    "    \n",
    "    # Save the generator model\n",
    "    filename2 = 'model_%06d.h5' % (step+1)\n",
    "    g_model.save(filename2)\n",
    "    print('>Saved: %s and %s' % (filename1, filename2))\n",
    "\n",
    "# Save the generator model\n",
    "def save_models(step, g_model_AtoB):\n",
    "    # Save the first generator model\n",
    "    filename1 = 'g_model_AtoB_%06d.h5' % (step+1)\n",
    "    g_model_AtoB.save(filename1)\n",
    "    \n",
    "    print('>Saved:%s' % (filename1))"
   ]
  },
  {
   "cell_type": "markdown",
   "id": "716c149f",
   "metadata": {
    "papermill": {
     "duration": 0.004835,
     "end_time": "2024-03-05T08:07:26.060582",
     "exception": false,
     "start_time": "2024-03-05T08:07:26.055747",
     "status": "completed"
    },
    "tags": []
   },
   "source": [
    "# Training process\n",
    "\n",
    "This code block trains the Pix2Pix models. It first loads the image data and defines the models. Then it trains the models for a specified number of epochs, updating the discriminator and generator models in each step. The trained models are saved only for the first and last step. The summary of the GAN model is printed before the training starts."
   ]
  },
  {
   "cell_type": "code",
   "execution_count": 16,
   "id": "59bbd18f",
   "metadata": {
    "execution": {
     "iopub.execute_input": "2024-03-05T08:07:26.072349Z",
     "iopub.status.busy": "2024-03-05T08:07:26.071972Z",
     "iopub.status.idle": "2024-03-05T08:07:29.391925Z",
     "shell.execute_reply": "2024-03-05T08:07:29.390339Z"
    },
    "papermill": {
     "duration": 3.328007,
     "end_time": "2024-03-05T08:07:29.393725",
     "exception": true,
     "start_time": "2024-03-05T08:07:26.065718",
     "status": "failed"
    },
    "tags": []
   },
   "outputs": [
    {
     "name": "stdout",
     "output_type": "stream",
     "text": [
      "Loaded (10, 256, 256, 3) (10, 256, 256, 3)\n",
      "Model: \"model_11\"\n",
      "__________________________________________________________________________________________________\n",
      " Layer (type)                   Output Shape         Param #     Connected to                     \n",
      "==================================================================================================\n",
      " input_16 (InputLayer)          [(None, 256, 256, 3  0           []                               \n",
      "                                )]                                                                \n",
      "                                                                                                  \n",
      " model_10 (Functional)          (None, 256, 256, 3)  54429315    ['input_16[0][0]']               \n",
      "                                                                                                  \n",
      " model_9 (Functional)           (None, 16, 16, 1)    6968257     ['input_16[0][0]',               \n",
      "                                                                  'model_10[0][0]']               \n",
      "                                                                                                  \n",
      "==================================================================================================\n",
      "Total params: 61,397,572\n",
      "Trainable params: 54,422,275\n",
      "Non-trainable params: 6,975,297\n",
      "__________________________________________________________________________________________________\n",
      "1/1 [==============================] - 1s 1s/step\n",
      ">1, d1[0.663] d2[1.546] g[98.120]\n",
      "1/1 [==============================] - 0s 407ms/step\n",
      "WARNING:tensorflow:Compiled the loaded model, but the compiled metrics have yet to be built. `model.compile_metrics` will be empty until you train or evaluate the model.\n",
      ">Saved: plot_000001.png and model_000001.h5\n",
      "WARNING:tensorflow:Compiled the loaded model, but the compiled metrics have yet to be built. `model.compile_metrics` will be empty until you train or evaluate the model.\n",
      ">Saved:g_model_AtoB_000001.h5\n",
      "1/1 [==============================] - 0s 321ms/step\n",
      ">2, d1[1.187] d2[1.585] g[95.348]\n",
      "1/1 [==============================] - 0s 233ms/step\n",
      ">3, d1[0.509] d2[1.068] g[91.151]\n",
      "1/1 [==============================] - 0s 236ms/step\n",
      ">4, d1[0.512] d2[1.193] g[90.103]\n",
      "1/1 [==============================] - 0s 216ms/step\n",
      ">5, d1[0.503] d2[1.154] g[87.907]\n",
      "1/1 [==============================] - 0s 229ms/step\n",
      ">6, d1[0.503] d2[0.703] g[84.974]\n",
      "1/1 [==============================] - 0s 212ms/step\n",
      ">7, d1[0.707] d2[0.553] g[83.077]\n",
      "1/1 [==============================] - 0s 233ms/step\n",
      ">8, d1[0.504] d2[0.534] g[80.834]\n",
      "1/1 [==============================] - 0s 237ms/step\n",
      ">9, d1[0.494] d2[0.396] g[76.542]\n",
      "1/1 [==============================] - 0s 216ms/step\n",
      ">10, d1[0.277] d2[0.396] g[75.741]\n",
      "1/1 [==============================] - 0s 390ms/step\n",
      "WARNING:tensorflow:Compiled the loaded model, but the compiled metrics have yet to be built. `model.compile_metrics` will be empty until you train or evaluate the model.\n",
      ">Saved: plot_000010.png and model_000010.h5\n",
      "WARNING:tensorflow:Compiled the loaded model, but the compiled metrics have yet to be built. `model.compile_metrics` will be empty until you train or evaluate the model.\n",
      ">Saved:g_model_AtoB_000010.h5\n"
     ]
    },
    {
     "data": {
      "image/png": "[encoded data removed]",
      "text/plain": [
       "<Figure size 1000x500 with 3 Axes>"
      ]
     },
     "metadata": {},
     "output_type": "display_data"
    }
   ],
   "source": [
    "import matplotlib.pyplot as plt\n",
    "import matplotlib.gridspec as gridspec\n",
    "\n",
    "def train(d_model, g_model, gan_model, dataset, n_epochs=1, n_batch=1):\n",
    "    # Determine the output square shape of the discriminator\n",
    "    n_patch = d_model.output_shape[1]\n",
    "    \n",
    "    # Unpack dataset\n",
    "    trainA, trainB = dataset\n",
    "    \n",
    "    # Calculate the number of batches per training epoch\n",
    "    bat_per_epo = int(len(trainA) / n_batch)\n",
    "    \n",
    "    # Calculate the number of training iterations\n",
    "    n_steps = bat_per_epo * n_epochs\n",
    "    \n",
    "    # Prepare lists for storing samples for visualization\n",
    "    all_realA, all_realB, all_fakeA, all_fakeB = [], [], [], []\n",
    "    \n",
    "    # Manually enumerate epochs\n",
    "    for i in range(n_steps):\n",
    "        # Select a batch of real samples\n",
    "        [X_realA, X_realB], y_real = generate_real_samples(dataset, n_batch, n_patch)\n",
    "        \n",
    "        # Generate a batch of fake samples\n",
    "        X_fakeB, y_fake = generate_fake_samples(g_model, X_realA, n_patch)\n",
    "        \n",
    "        # Store samples for visualization\n",
    "        all_realA.append(X_realA)\n",
    "        all_realB.append(X_realB)\n",
    "        all_fakeB.append(X_fakeB)\n",
    "        \n",
    "        # Update discriminator for real samples\n",
    "        d_loss1 = d_model.train_on_batch([X_realA, X_realB], y_real)\n",
    "        \n",
    "        # Update discriminator for generated samples\n",
    "        d_loss2 = d_model.train_on_batch([X_realA, X_fakeB], y_fake)\n",
    "        \n",
    "        # Update the generator\n",
    "        g_loss, _, _ = gan_model.train_on_batch(X_realA, [y_real, X_realB])\n",
    "        \n",
    "        # Summarize performance\n",
    "        print('>%d, d1[%.3f] d2[%.3f] g[%.3f]' % (i+1, d_loss1, d_loss2, g_loss))\n",
    "        \n",
    "        # Summarize model performance and save models only for the first and last step\n",
    "        if i == 0 or i == n_steps - 1:\n",
    "            summarize_performance(i, g_model, dataset)\n",
    "            save_models(i, g_model)\n",
    "    \n",
    "    # Convert the lists to numpy arrays for visualization\n",
    "    all_realA = np.concatenate(all_realA)\n",
    "    all_realB = np.concatenate(all_realB)\n",
    "    all_fakeB = np.concatenate(all_fakeB)\n",
    "\n",
    "    # Create a new figure\n",
    "    plt.figure(figsize=(10,5))\n",
    "\n",
    "    # Create a gridspec\n",
    "    gs = gridspec.GridSpec(2, 2)\n",
    "\n",
    "    # Plot the last real image from A and B\n",
    "    plt.subplot(gs[0, 0]) # top left\n",
    "    plt.title('Last Real Image A')\n",
    "    plt.imshow((all_realA[-1] * 0.5) + 0.5) # Scale the image pixels back to the range [0,1]\n",
    "    plt.axis('off')\n",
    "\n",
    "    plt.subplot(gs[0, 1]) # top right\n",
    "    plt.title('Last Real Image B')\n",
    "    plt.imshow((all_realB[-1] * 0.5) + 0.5) # Scale the image pixels back to the range [0,1]\n",
    "    plt.axis('off')\n",
    "\n",
    "    # Plot the last fake image from B\n",
    "    plt.subplot(gs[1, :]) # bottom, span both columns\n",
    "    plt.title('Last Fake Image B')\n",
    "    plt.imshow((all_fakeB[-1] * 0.5) + 0.5) # Scale the image pixels back to the range [0,1]\n",
    "    plt.axis('off')\n",
    "\n",
    "    # Show the figure with the images\n",
    "    plt.show()\n",
    "\n",
    "# Load image data\n",
    "dataset = load_real_samples('pmwtoir1_256.npz')\n",
    "print('Loaded', dataset[0].shape, dataset[1].shape)\n",
    "\n",
    "# Define input shape based on the loaded dataset\n",
    "image_shape = dataset[0].shape[1:]\n",
    "\n",
    "# Define the models\n",
    "d_model = define_discriminator(image_shape)\n",
    "g_model = define_generator(image_shape)\n",
    "\n",
    "# Define the composite model\n",
    "gan_model = define_gan(g_model, d_model, image_shape)\n",
    "\n",
    "# Print the summary of the GAN model\n",
    "gan_model.summary()\n",
    "\n",
    "# Train model\n",
    "train(d_model, g_model, gan_model, dataset)"
   ]
  },
  {
   "cell_type": "code",
   "execution_count": null,
   "id": "79d50cd3",
   "metadata": {},
   "outputs": [],
   "source": [
    "# Import necessary libraries\n",
    "from keras.models import load_model\n",
    "\n",
    "# Load the model that transforms images from domain A to domain B\n",
    "model_AtoB = load_model('models/g_model_AtoB_200.keras')"
   ]
  },
  {
   "cell_type": "markdown",
   "id": "1cd2b474",
   "metadata": {
    "papermill": {
     "duration": null,
     "end_time": null,
     "exception": null,
     "start_time": null,
     "status": "pending"
    },
    "tags": []
   },
   "source": [
    "# Calculating Performance Metrics\n",
    "\n",
    "Key metrics used to ensure that the generated images are similar to the ground truth images are:\n",
    "\n",
    "- **RMSE (Root Mean Squared Error):**\n",
    "  - Measures the average magnitude of pixel-wise differences between the generated and target images.\n",
    "  - Lower RMSE values indicate better pixel-level similarity.\n",
    "  - Sensitive to outliers and can be influenced by extreme values.\n",
    "\n",
    "- **PSNR (Peak Signal-to-Noise Ratio):**\n",
    "  - Quantifies the quality of the generated image by comparing it to the target image.\n",
    "  - Higher PSNR values indicate better image quality.\n",
    "  - It is a logarithmic scale, and a higher PSNR is associated with lower perceptual differences.\n",
    "\n",
    "- **CC (Pearson Correlation Coefficient):**\n",
    "  - Assesses the linear relationship between pixel intensities of the generated and target images.\n",
    "  - A value close to 1 indicates a strong positive correlation, implying high similarity.\n",
    "  - Not sensitive to intensity shifts but assumes a linear relationship.\n",
    "\n",
    "- **SSIM (Structural Similarity Index):**\n",
    "  - Evaluates the structural information and textures in the images.\n",
    "  - Takes into account luminance, contrast, and structure.\n",
    "  - SSIM values range from -1 to 1, where 1 indicates perfect similarity.\n",
    "  - Multiscale and considers local features, making it suitable for assessing perceptual quality.\n"
   ]
  },
  {
   "cell_type": "code",
   "execution_count": 18,
   "id": "34fc90f8",
   "metadata": {
    "execution": {
     "iopub.execute_input": "2024-03-05T07:49:45.824179Z",
     "iopub.status.busy": "2024-03-05T07:49:45.823730Z",
     "iopub.status.idle": "2024-03-05T07:49:45.836338Z",
     "shell.execute_reply": "2024-03-05T07:49:45.834730Z",
     "shell.execute_reply.started": "2024-03-05T07:49:45.824144Z"
    },
    "papermill": {
     "duration": null,
     "end_time": null,
     "exception": null,
     "start_time": null,
     "status": "pending"
    },
    "tags": []
   },
   "outputs": [],
   "source": [
    "from skimage.metrics import peak_signal_noise_ratio as psnr\n",
    "from skimage.metrics import structural_similarity as ssim\n",
    "from scipy.stats import pearsonr\n",
    "import numpy as np\n",
    "import pandas as pd\n",
    "\n",
    "# Function to calculate Root Mean Square Error (RMSE)\n",
    "def calculate_rmse(target, prediction):\n",
    "    return np.sqrt(((prediction - target) ** 2).mean())\n",
    "\n",
    "# Function to calculate Peak Signal-to-Noise Ratio (PSNR)\n",
    "def calculate_psnr(target, prediction):\n",
    "    return psnr(target, prediction, data_range=prediction.max() - prediction.min())\n",
    "\n",
    "# Function to calculate Pearson Correlation Coefficient (CC)\n",
    "def calculate_cc(target, prediction):\n",
    "    return pearsonr(target.flatten(), prediction.flatten())[0]\n",
    "\n",
    "# Function to calculate Structural Similarity Index Measure (SSIM)\n",
    "def calculate_ssim(target, prediction):\n",
    "    # Use a smaller window size for SSIM calculation\n",
    "    return ssim(target, prediction, win_size=3, multichannel=True, data_range=prediction.max() - prediction.min())\n",
    "\n",
    "# Function to calculate all metrics for a set of target and prediction images\n",
    "def calculate_metrics(targets, predictions, n_images):\n",
    "    rmse_values = np.zeros(n_images)\n",
    "    psnr_values = np.zeros(n_images)\n",
    "    cc_values = np.zeros(n_images)\n",
    "    ssim_values = np.zeros(n_images)\n",
    "\n",
    "    # Calculate metrics for each image\n",
    "    for i in range(n_images):\n",
    "        target = targets[i]\n",
    "        prediction = predictions[i]\n",
    "\n",
    "        rmse_values[i] = calculate_rmse(target, prediction)\n",
    "        psnr_values[i] = calculate_psnr(target, prediction)\n",
    "        cc_values[i] = calculate_cc(target, prediction)\n",
    "        ssim_values[i] = calculate_ssim(target, prediction)\n",
    "\n",
    "    # Create a DataFrame to display the results\n",
    "    df = pd.DataFrame({\n",
    "        'Image': [f'Image {i+1}' for i in range(n_images)],\n",
    "        'RMSE': rmse_values,\n",
    "        'PSNR': psnr_values,\n",
    "        'CC': cc_values,\n",
    "        'SSIM': ssim_values\n",
    "    })\n",
    "\n",
    "    return df"
   ]
  },
  {
   "cell_type": "markdown",
   "id": "958f1ba0",
   "metadata": {
    "papermill": {
     "duration": null,
     "end_time": null,
     "exception": null,
     "start_time": null,
     "status": "pending"
    },
    "tags": []
   },
   "source": [
    "### Loading the test data from already saved file"
   ]
  },
  {
   "cell_type": "code",
   "execution_count": null,
   "id": "6905f28e",
   "metadata": {
    "execution": {
     "iopub.execute_input": "2024-03-05T07:49:46.911570Z",
     "iopub.status.busy": "2024-03-05T07:49:46.911113Z",
     "iopub.status.idle": "2024-03-05T07:49:48.314139Z",
     "shell.execute_reply": "2024-03-05T07:49:48.312930Z",
     "shell.execute_reply.started": "2024-03-05T07:49:46.911532Z"
    },
    "papermill": {
     "duration": null,
     "end_time": null,
     "exception": null,
     "start_time": null,
     "status": "pending"
    },
    "tags": []
   },
   "outputs": [],
   "source": [
    "from numpy import load\n",
    "\n",
    "data = load(\"/kaggle/input/100-images-metrics/pmwtoir1_256_metrics_100.npz\")\n",
    "# unpack arrays\n",
    "X1, X2 = data['arr_0'], data['arr_1']\n",
    "# scale from [0,255] to [-1,1]\n",
    "real = (X1 - 127.5) / 127.5\n",
    "fake = (X2 - 127.5) / 127.5\n",
    "print(real.shape,'   ',real.shape)"
   ]
  },
  {
   "cell_type": "markdown",
   "id": "0524ed4f",
   "metadata": {
    "papermill": {
     "duration": null,
     "end_time": null,
     "exception": null,
     "start_time": null,
     "status": "pending"
    },
    "tags": []
   },
   "source": [
    "### Individual image metrics"
   ]
  },
  {
   "cell_type": "code",
   "execution_count": null,
   "id": "b7a54053",
   "metadata": {
    "execution": {
     "iopub.execute_input": "2024-03-05T07:51:21.751200Z",
     "iopub.status.busy": "2024-03-05T07:51:21.750736Z",
     "iopub.status.idle": "2024-03-05T07:51:29.820511Z",
     "shell.execute_reply": "2024-03-05T07:51:29.819290Z",
     "shell.execute_reply.started": "2024-03-05T07:51:21.751163Z"
    },
    "papermill": {
     "duration": null,
     "end_time": null,
     "exception": null,
     "start_time": null,
     "status": "pending"
    },
    "tags": []
   },
   "outputs": [],
   "source": [
    "result_df = calculate_metrics(real,fake,100)\n",
    "result_df.drop('Image',axis=1,inplace = True)\n",
    "metrics_100_df = result_df\n",
    "metrics_100_df"
   ]
  },
  {
   "cell_type": "markdown",
   "id": "23b6c06c",
   "metadata": {
    "papermill": {
     "duration": null,
     "end_time": null,
     "exception": null,
     "start_time": null,
     "status": "pending"
    },
    "tags": []
   },
   "source": [
    "### Metrics summary"
   ]
  },
  {
   "cell_type": "code",
   "execution_count": null,
   "id": "1f93bd03",
   "metadata": {
    "execution": {
     "iopub.execute_input": "2024-03-05T07:51:16.732449Z",
     "iopub.status.busy": "2024-03-05T07:51:16.731989Z",
     "iopub.status.idle": "2024-03-05T07:51:16.742134Z",
     "shell.execute_reply": "2024-03-05T07:51:16.740401Z",
     "shell.execute_reply.started": "2024-03-05T07:51:16.732414Z"
    },
    "papermill": {
     "duration": null,
     "end_time": null,
     "exception": null,
     "start_time": null,
     "status": "pending"
    },
    "tags": []
   },
   "outputs": [],
   "source": [
    "metrics_100_df"
   ]
  }
 ],
 "metadata": {
  "kaggle": {
   "accelerator": "none",
   "dataSources": [
    {
     "datasetId": 4506938,
     "sourceId": 7716902,
     "sourceType": "datasetVersion"
    },
    {
     "datasetId": 4540936,
     "sourceId": 7763878,
     "sourceType": "datasetVersion"
    }
   ],
   "dockerImageVersionId": 30664,
   "isGpuEnabled": false,
   "isInternetEnabled": true,
   "language": "python",
   "sourceType": "notebook"
  },
  "kernelspec": {
   "display_name": "Python 3",
   "language": "python",
   "name": "python3"
  },
  "language_info": {
   "codemirror_mode": {
    "name": "ipython",
    "version": 3
   },
   "file_extension": ".py",
   "mimetype": "text/x-python",
   "name": "python",
   "nbconvert_exporter": "python",
   "pygments_lexer": "ipython3",
   "version": "3.10.13"
  },
  "papermill": {
   "default_parameters": {},
   "duration": 23.070243,
   "end_time": "2024-03-05T08:07:31.917869",
   "environment_variables": {},
   "exception": true,
   "input_path": "__notebook__.ipynb",
   "output_path": "__notebook__.ipynb",
   "parameters": {},
   "start_time": "2024-03-05T08:07:08.847626",
   "version": "2.5.0"
  }
 },
 "nbformat": 4,
 "nbformat_minor": 5
}
