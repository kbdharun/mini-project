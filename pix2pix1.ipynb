{
 "cells": [
  {
   "cell_type": "code",
   "execution_count": 1,
   "metadata": {},
   "outputs": [
    {
     "name": "stdout",
     "output_type": "stream",
     "text": [
      "WARNING:tensorflow:From c:\\Users\\nandu\\AppData\\Local\\Programs\\Python\\Python311\\Lib\\site-packages\\keras\\src\\losses.py:2976: The name tf.losses.sparse_softmax_cross_entropy is deprecated. Please use tf.compat.v1.losses.sparse_softmax_cross_entropy instead.\n",
      "\n",
      "(201, 201, 3)\n",
      "(256, 256, 3)\n",
      "(201, 201, 3)\n",
      "(256, 256, 3)\n",
      "(201, 201, 3)\n",
      "(256, 256, 3)\n",
      "(201, 201, 3)\n",
      "(256, 256, 3)\n",
      "(201, 201, 3)\n",
      "(256, 256, 3)\n",
      "(5, 256, 256, 3)\n",
      "LOaded (5, 256, 256, 3) (5, 256, 256, 3)\n",
      "Saved dataset:  pmwtoir1_256.npz\n"
     ]
    }
   ],
   "source": [
    "import cv2\n",
    "import os\n",
    "import numpy as np\n",
    "from numpy import asarray\n",
    "from numpy import vstack\n",
    "from keras.preprocessing.image import img_to_array\n",
    "from keras.preprocessing.image import load_img\n",
    "from numpy import savez_compressed\n",
    "# Define the path to your directory\n",
    "directory = r'C:\\Users\\nandu\\data\\test'\n",
    "\n",
    "# Get a list of all the file paths\n",
    "image_paths = [os.path.join(directory, img) for img in os.listdir(directory)]\n",
    "\n",
    "# Load the images in grayscale\n",
    "images = np.array([cv2.imread(img_path) for img_path in image_paths])\n",
    "\n",
    "pmw=[]\n",
    "ir=[]\n",
    "# cv2.imshow('image',images[0])\n",
    "for i in range(len(images)):\n",
    "    image1 = images[i][0:201, 0:201]\n",
    "    image2 = images[i][0:201,201:402]\n",
    "    print(image1.shape)\n",
    "    image1=cv2.resize(image1,(256,256))\n",
    "    image2=cv2.resize(image2,(256,256))\n",
    "    print(image1.shape)\n",
    "    image1=image1.reshape(256,256,3)\n",
    "    image2=image2.reshape(256,256,3)\n",
    "    pmw.append(image1)\n",
    "    ir.append(image2)\n",
    "pmw=np.array(pmw)\n",
    "ir=np.array(ir)\n",
    "print(pmw.shape)\n",
    "# Now `images` is a list of numpy arrays representing your images in grayscale\n",
    "print(\"LOaded\",pmw.shape,ir.shape)\n",
    "# # save as compressed numpy array\n",
    "filename = 'pmwtoir1_256.npz'\n",
    "savez_compressed(filename,ir,pmw)\n",
    "print('Saved dataset: ', filename)"
   ]
  },
  {
   "cell_type": "code",
   "execution_count": 5,
   "metadata": {},
   "outputs": [
    {
     "name": "stdout",
     "output_type": "stream",
     "text": [
      "Loaded (5, 256, 256, 3) (5, 256, 256, 3)\n"
     ]
    },
    {
     "name": "stderr",
     "output_type": "stream",
     "text": [
      "WARNING:absl:`lr` is deprecated in Keras optimizer, please use `learning_rate` or use the legacy optimizer, e.g.,tf.keras.optimizers.legacy.Adam.\n",
      "WARNING:absl:`lr` is deprecated in Keras optimizer, please use `learning_rate` or use the legacy optimizer, e.g.,tf.keras.optimizers.legacy.Adam.\n"
     ]
    },
    {
     "name": "stdout",
     "output_type": "stream",
     "text": [
      "1/1 [==============================] - 1s 787ms/step\n",
      ">1, d1[0.611] d2[1.488] g[99.130]\n",
      "WARNING:tensorflow:Compiled the loaded model, but the compiled metrics have yet to be built. `model.compile_metrics` will be empty until you train or evaluate the model.\n"
     ]
    },
    {
     "name": "stderr",
     "output_type": "stream",
     "text": [
      "WARNING:tensorflow:Compiled the loaded model, but the compiled metrics have yet to be built. `model.compile_metrics` will be empty until you train or evaluate the model.\n"
     ]
    },
    {
     "name": "stdout",
     "output_type": "stream",
     "text": [
      ">Saved:g_model_AtoB_000001.h5\n",
      "1/1 [==============================] - 0s 204ms/step\n",
      ">2, d1[0.694] d2[1.229] g[91.900]\n",
      "WARNING:tensorflow:Compiled the loaded model, but the compiled metrics have yet to be built. `model.compile_metrics` will be empty until you train or evaluate the model.\n"
     ]
    },
    {
     "name": "stderr",
     "output_type": "stream",
     "text": [
      "WARNING:tensorflow:Compiled the loaded model, but the compiled metrics have yet to be built. `model.compile_metrics` will be empty until you train or evaluate the model.\n"
     ]
    },
    {
     "name": "stdout",
     "output_type": "stream",
     "text": [
      ">Saved:g_model_AtoB_000002.h5\n",
      "1/1 [==============================] - 0s 207ms/step\n",
      ">3, d1[0.860] d2[2.275] g[74.596]\n",
      "WARNING:tensorflow:Compiled the loaded model, but the compiled metrics have yet to be built. `model.compile_metrics` will be empty until you train or evaluate the model.\n"
     ]
    },
    {
     "name": "stderr",
     "output_type": "stream",
     "text": [
      "WARNING:tensorflow:Compiled the loaded model, but the compiled metrics have yet to be built. `model.compile_metrics` will be empty until you train or evaluate the model.\n"
     ]
    },
    {
     "name": "stdout",
     "output_type": "stream",
     "text": [
      ">Saved:g_model_AtoB_000003.h5\n",
      "1/1 [==============================] - 0s 230ms/step\n",
      ">4, d1[1.569] d2[0.764] g[68.082]\n",
      "WARNING:tensorflow:Compiled the loaded model, but the compiled metrics have yet to be built. `model.compile_metrics` will be empty until you train or evaluate the model.\n"
     ]
    },
    {
     "name": "stderr",
     "output_type": "stream",
     "text": [
      "WARNING:tensorflow:Compiled the loaded model, but the compiled metrics have yet to be built. `model.compile_metrics` will be empty until you train or evaluate the model.\n"
     ]
    },
    {
     "name": "stdout",
     "output_type": "stream",
     "text": [
      ">Saved:g_model_AtoB_000004.h5\n",
      "1/1 [==============================] - 0s 207ms/step\n",
      ">5, d1[0.600] d2[0.380] g[55.701]\n",
      "WARNING:tensorflow:Compiled the loaded model, but the compiled metrics have yet to be built. `model.compile_metrics` will be empty until you train or evaluate the model.\n"
     ]
    },
    {
     "name": "stderr",
     "output_type": "stream",
     "text": [
      "WARNING:tensorflow:Compiled the loaded model, but the compiled metrics have yet to be built. `model.compile_metrics` will be empty until you train or evaluate the model.\n"
     ]
    },
    {
     "name": "stdout",
     "output_type": "stream",
     "text": [
      ">Saved:g_model_AtoB_000005.h5\n",
      "1/1 [==============================] - 0s 205ms/step\n",
      ">6, d1[0.410] d2[0.389] g[46.668]\n",
      "WARNING:tensorflow:Compiled the loaded model, but the compiled metrics have yet to be built. `model.compile_metrics` will be empty until you train or evaluate the model.\n"
     ]
    },
    {
     "name": "stderr",
     "output_type": "stream",
     "text": [
      "WARNING:tensorflow:Compiled the loaded model, but the compiled metrics have yet to be built. `model.compile_metrics` will be empty until you train or evaluate the model.\n"
     ]
    },
    {
     "name": "stdout",
     "output_type": "stream",
     "text": [
      ">Saved:g_model_AtoB_000006.h5\n",
      "1/1 [==============================] - 0s 228ms/step\n",
      ">7, d1[0.397] d2[0.277] g[37.060]\n",
      "WARNING:tensorflow:Compiled the loaded model, but the compiled metrics have yet to be built. `model.compile_metrics` will be empty until you train or evaluate the model.\n"
     ]
    },
    {
     "name": "stderr",
     "output_type": "stream",
     "text": [
      "WARNING:tensorflow:Compiled the loaded model, but the compiled metrics have yet to be built. `model.compile_metrics` will be empty until you train or evaluate the model.\n"
     ]
    },
    {
     "name": "stdout",
     "output_type": "stream",
     "text": [
      ">Saved:g_model_AtoB_000007.h5\n",
      "1/1 [==============================] - 0s 210ms/step\n",
      ">8, d1[0.441] d2[0.644] g[30.671]\n",
      "WARNING:tensorflow:Compiled the loaded model, but the compiled metrics have yet to be built. `model.compile_metrics` will be empty until you train or evaluate the model.\n"
     ]
    },
    {
     "name": "stderr",
     "output_type": "stream",
     "text": [
      "WARNING:tensorflow:Compiled the loaded model, but the compiled metrics have yet to be built. `model.compile_metrics` will be empty until you train or evaluate the model.\n"
     ]
    },
    {
     "name": "stdout",
     "output_type": "stream",
     "text": [
      ">Saved:g_model_AtoB_000008.h5\n",
      "1/1 [==============================] - 0s 220ms/step\n",
      ">9, d1[0.871] d2[0.324] g[25.952]\n",
      "WARNING:tensorflow:Compiled the loaded model, but the compiled metrics have yet to be built. `model.compile_metrics` will be empty until you train or evaluate the model.\n"
     ]
    },
    {
     "name": "stderr",
     "output_type": "stream",
     "text": [
      "WARNING:tensorflow:Compiled the loaded model, but the compiled metrics have yet to be built. `model.compile_metrics` will be empty until you train or evaluate the model.\n"
     ]
    },
    {
     "name": "stdout",
     "output_type": "stream",
     "text": [
      ">Saved:g_model_AtoB_000009.h5\n",
      "1/1 [==============================] - 0s 234ms/step\n",
      ">10, d1[0.521] d2[0.500] g[21.994]\n",
      "WARNING:tensorflow:Compiled the loaded model, but the compiled metrics have yet to be built. `model.compile_metrics` will be empty until you train or evaluate the model.\n"
     ]
    },
    {
     "name": "stderr",
     "output_type": "stream",
     "text": [
      "WARNING:tensorflow:Compiled the loaded model, but the compiled metrics have yet to be built. `model.compile_metrics` will be empty until you train or evaluate the model.\n"
     ]
    },
    {
     "name": "stdout",
     "output_type": "stream",
     "text": [
      ">Saved:g_model_AtoB_000010.h5\n",
      "1/1 [==============================] - 0s 223ms/step\n",
      ">11, d1[0.397] d2[0.493] g[18.033]\n",
      "WARNING:tensorflow:Compiled the loaded model, but the compiled metrics have yet to be built. `model.compile_metrics` will be empty until you train or evaluate the model.\n"
     ]
    },
    {
     "name": "stderr",
     "output_type": "stream",
     "text": [
      "WARNING:tensorflow:Compiled the loaded model, but the compiled metrics have yet to be built. `model.compile_metrics` will be empty until you train or evaluate the model.\n"
     ]
    },
    {
     "name": "stdout",
     "output_type": "stream",
     "text": [
      ">Saved:g_model_AtoB_000011.h5\n",
      "1/1 [==============================] - 0s 236ms/step\n",
      ">12, d1[0.570] d2[0.503] g[19.730]\n",
      "WARNING:tensorflow:Compiled the loaded model, but the compiled metrics have yet to be built. `model.compile_metrics` will be empty until you train or evaluate the model.\n"
     ]
    },
    {
     "name": "stderr",
     "output_type": "stream",
     "text": [
      "WARNING:tensorflow:Compiled the loaded model, but the compiled metrics have yet to be built. `model.compile_metrics` will be empty until you train or evaluate the model.\n"
     ]
    },
    {
     "name": "stdout",
     "output_type": "stream",
     "text": [
      ">Saved:g_model_AtoB_000012.h5\n",
      "1/1 [==============================] - 0s 218ms/step\n",
      ">13, d1[0.362] d2[0.426] g[15.814]\n",
      "WARNING:tensorflow:Compiled the loaded model, but the compiled metrics have yet to be built. `model.compile_metrics` will be empty until you train or evaluate the model.\n"
     ]
    },
    {
     "name": "stderr",
     "output_type": "stream",
     "text": [
      "WARNING:tensorflow:Compiled the loaded model, but the compiled metrics have yet to be built. `model.compile_metrics` will be empty until you train or evaluate the model.\n"
     ]
    },
    {
     "name": "stdout",
     "output_type": "stream",
     "text": [
      ">Saved:g_model_AtoB_000013.h5\n",
      "1/1 [==============================] - 0s 242ms/step\n",
      ">14, d1[0.467] d2[0.435] g[11.631]\n",
      "WARNING:tensorflow:Compiled the loaded model, but the compiled metrics have yet to be built. `model.compile_metrics` will be empty until you train or evaluate the model.\n"
     ]
    },
    {
     "name": "stderr",
     "output_type": "stream",
     "text": [
      "WARNING:tensorflow:Compiled the loaded model, but the compiled metrics have yet to be built. `model.compile_metrics` will be empty until you train or evaluate the model.\n"
     ]
    },
    {
     "name": "stdout",
     "output_type": "stream",
     "text": [
      ">Saved:g_model_AtoB_000014.h5\n",
      "1/1 [==============================] - 0s 241ms/step\n",
      ">15, d1[0.392] d2[0.390] g[13.430]\n",
      "WARNING:tensorflow:Compiled the loaded model, but the compiled metrics have yet to be built. `model.compile_metrics` will be empty until you train or evaluate the model.\n"
     ]
    },
    {
     "name": "stderr",
     "output_type": "stream",
     "text": [
      "WARNING:tensorflow:Compiled the loaded model, but the compiled metrics have yet to be built. `model.compile_metrics` will be empty until you train or evaluate the model.\n"
     ]
    },
    {
     "name": "stdout",
     "output_type": "stream",
     "text": [
      ">Saved:g_model_AtoB_000015.h5\n",
      "1/1 [==============================] - 0s 250ms/step\n",
      ">16, d1[0.421] d2[0.386] g[12.751]\n",
      "WARNING:tensorflow:Compiled the loaded model, but the compiled metrics have yet to be built. `model.compile_metrics` will be empty until you train or evaluate the model.\n"
     ]
    },
    {
     "name": "stderr",
     "output_type": "stream",
     "text": [
      "WARNING:tensorflow:Compiled the loaded model, but the compiled metrics have yet to be built. `model.compile_metrics` will be empty until you train or evaluate the model.\n"
     ]
    },
    {
     "name": "stdout",
     "output_type": "stream",
     "text": [
      ">Saved:g_model_AtoB_000016.h5\n",
      "1/1 [==============================] - 0s 219ms/step\n",
      ">17, d1[0.534] d2[0.435] g[8.489]\n",
      "WARNING:tensorflow:Compiled the loaded model, but the compiled metrics have yet to be built. `model.compile_metrics` will be empty until you train or evaluate the model.\n"
     ]
    },
    {
     "name": "stderr",
     "output_type": "stream",
     "text": [
      "WARNING:tensorflow:Compiled the loaded model, but the compiled metrics have yet to be built. `model.compile_metrics` will be empty until you train or evaluate the model.\n"
     ]
    },
    {
     "name": "stdout",
     "output_type": "stream",
     "text": [
      ">Saved:g_model_AtoB_000017.h5\n",
      "1/1 [==============================] - 0s 215ms/step\n",
      ">18, d1[0.391] d2[0.435] g[8.632]\n",
      "WARNING:tensorflow:Compiled the loaded model, but the compiled metrics have yet to be built. `model.compile_metrics` will be empty until you train or evaluate the model.\n"
     ]
    },
    {
     "name": "stderr",
     "output_type": "stream",
     "text": [
      "WARNING:tensorflow:Compiled the loaded model, but the compiled metrics have yet to be built. `model.compile_metrics` will be empty until you train or evaluate the model.\n"
     ]
    },
    {
     "name": "stdout",
     "output_type": "stream",
     "text": [
      ">Saved:g_model_AtoB_000018.h5\n",
      "1/1 [==============================] - 0s 209ms/step\n",
      ">19, d1[0.540] d2[0.438] g[15.232]\n",
      "WARNING:tensorflow:Compiled the loaded model, but the compiled metrics have yet to be built. `model.compile_metrics` will be empty until you train or evaluate the model.\n"
     ]
    },
    {
     "name": "stderr",
     "output_type": "stream",
     "text": [
      "WARNING:tensorflow:Compiled the loaded model, but the compiled metrics have yet to be built. `model.compile_metrics` will be empty until you train or evaluate the model.\n"
     ]
    },
    {
     "name": "stdout",
     "output_type": "stream",
     "text": [
      ">Saved:g_model_AtoB_000019.h5\n",
      "1/1 [==============================] - 0s 264ms/step\n",
      ">20, d1[0.437] d2[0.428] g[13.040]\n",
      "WARNING:tensorflow:Compiled the loaded model, but the compiled metrics have yet to be built. `model.compile_metrics` will be empty until you train or evaluate the model.\n"
     ]
    },
    {
     "name": "stderr",
     "output_type": "stream",
     "text": [
      "WARNING:tensorflow:Compiled the loaded model, but the compiled metrics have yet to be built. `model.compile_metrics` will be empty until you train or evaluate the model.\n"
     ]
    },
    {
     "name": "stdout",
     "output_type": "stream",
     "text": [
      ">Saved:g_model_AtoB_000020.h5\n",
      "1/1 [==============================] - 0s 224ms/step\n",
      ">21, d1[0.325] d2[0.424] g[12.869]\n",
      "WARNING:tensorflow:Compiled the loaded model, but the compiled metrics have yet to be built. `model.compile_metrics` will be empty until you train or evaluate the model.\n"
     ]
    },
    {
     "name": "stderr",
     "output_type": "stream",
     "text": [
      "WARNING:tensorflow:Compiled the loaded model, but the compiled metrics have yet to be built. `model.compile_metrics` will be empty until you train or evaluate the model.\n"
     ]
    },
    {
     "name": "stdout",
     "output_type": "stream",
     "text": [
      ">Saved:g_model_AtoB_000021.h5\n",
      "1/1 [==============================] - 0s 224ms/step\n",
      ">22, d1[0.482] d2[0.383] g[6.900]\n",
      "WARNING:tensorflow:Compiled the loaded model, but the compiled metrics have yet to be built. `model.compile_metrics` will be empty until you train or evaluate the model.\n"
     ]
    },
    {
     "name": "stderr",
     "output_type": "stream",
     "text": [
      "WARNING:tensorflow:Compiled the loaded model, but the compiled metrics have yet to be built. `model.compile_metrics` will be empty until you train or evaluate the model.\n"
     ]
    },
    {
     "name": "stdout",
     "output_type": "stream",
     "text": [
      ">Saved:g_model_AtoB_000022.h5\n",
      "1/1 [==============================] - 0s 244ms/step\n",
      ">23, d1[0.354] d2[0.305] g[10.876]\n",
      "WARNING:tensorflow:Compiled the loaded model, but the compiled metrics have yet to be built. `model.compile_metrics` will be empty until you train or evaluate the model.\n"
     ]
    },
    {
     "name": "stderr",
     "output_type": "stream",
     "text": [
      "WARNING:tensorflow:Compiled the loaded model, but the compiled metrics have yet to be built. `model.compile_metrics` will be empty until you train or evaluate the model.\n"
     ]
    },
    {
     "name": "stdout",
     "output_type": "stream",
     "text": [
      ">Saved:g_model_AtoB_000023.h5\n",
      "1/1 [==============================] - 0s 248ms/step\n",
      ">24, d1[0.299] d2[0.358] g[9.879]\n",
      "WARNING:tensorflow:Compiled the loaded model, but the compiled metrics have yet to be built. `model.compile_metrics` will be empty until you train or evaluate the model.\n"
     ]
    },
    {
     "name": "stderr",
     "output_type": "stream",
     "text": [
      "WARNING:tensorflow:Compiled the loaded model, but the compiled metrics have yet to be built. `model.compile_metrics` will be empty until you train or evaluate the model.\n"
     ]
    },
    {
     "name": "stdout",
     "output_type": "stream",
     "text": [
      ">Saved:g_model_AtoB_000024.h5\n",
      "1/1 [==============================] - 0s 239ms/step\n",
      ">25, d1[0.600] d2[0.268] g[13.511]\n",
      "WARNING:tensorflow:Compiled the loaded model, but the compiled metrics have yet to be built. `model.compile_metrics` will be empty until you train or evaluate the model.\n"
     ]
    },
    {
     "name": "stderr",
     "output_type": "stream",
     "text": [
      "WARNING:tensorflow:Compiled the loaded model, but the compiled metrics have yet to be built. `model.compile_metrics` will be empty until you train or evaluate the model.\n"
     ]
    },
    {
     "name": "stdout",
     "output_type": "stream",
     "text": [
      ">Saved:g_model_AtoB_000025.h5\n",
      "1/1 [==============================] - 0s 285ms/step\n",
      ">26, d1[0.204] d2[0.429] g[9.896]\n",
      "WARNING:tensorflow:Compiled the loaded model, but the compiled metrics have yet to be built. `model.compile_metrics` will be empty until you train or evaluate the model.\n"
     ]
    },
    {
     "name": "stderr",
     "output_type": "stream",
     "text": [
      "WARNING:tensorflow:Compiled the loaded model, but the compiled metrics have yet to be built. `model.compile_metrics` will be empty until you train or evaluate the model.\n"
     ]
    },
    {
     "name": "stdout",
     "output_type": "stream",
     "text": [
      ">Saved:g_model_AtoB_000026.h5\n",
      "1/1 [==============================] - 0s 270ms/step\n",
      ">27, d1[0.455] d2[0.231] g[11.061]\n",
      "WARNING:tensorflow:Compiled the loaded model, but the compiled metrics have yet to be built. `model.compile_metrics` will be empty until you train or evaluate the model.\n"
     ]
    },
    {
     "name": "stderr",
     "output_type": "stream",
     "text": [
      "WARNING:tensorflow:Compiled the loaded model, but the compiled metrics have yet to be built. `model.compile_metrics` will be empty until you train or evaluate the model.\n"
     ]
    },
    {
     "name": "stdout",
     "output_type": "stream",
     "text": [
      ">Saved:g_model_AtoB_000027.h5\n",
      "1/1 [==============================] - 0s 275ms/step\n",
      ">28, d1[0.325] d2[0.142] g[11.007]\n",
      "WARNING:tensorflow:Compiled the loaded model, but the compiled metrics have yet to be built. `model.compile_metrics` will be empty until you train or evaluate the model.\n"
     ]
    },
    {
     "name": "stderr",
     "output_type": "stream",
     "text": [
      "WARNING:tensorflow:Compiled the loaded model, but the compiled metrics have yet to be built. `model.compile_metrics` will be empty until you train or evaluate the model.\n"
     ]
    },
    {
     "name": "stdout",
     "output_type": "stream",
     "text": [
      ">Saved:g_model_AtoB_000028.h5\n",
      "1/1 [==============================] - 0s 268ms/step\n",
      ">29, d1[0.416] d2[0.507] g[8.030]\n",
      "WARNING:tensorflow:Compiled the loaded model, but the compiled metrics have yet to be built. `model.compile_metrics` will be empty until you train or evaluate the model.\n"
     ]
    },
    {
     "name": "stderr",
     "output_type": "stream",
     "text": [
      "WARNING:tensorflow:Compiled the loaded model, but the compiled metrics have yet to be built. `model.compile_metrics` will be empty until you train or evaluate the model.\n"
     ]
    },
    {
     "name": "stdout",
     "output_type": "stream",
     "text": [
      ">Saved:g_model_AtoB_000029.h5\n",
      "1/1 [==============================] - 0s 262ms/step\n",
      ">30, d1[0.510] d2[0.151] g[6.348]\n",
      "WARNING:tensorflow:Compiled the loaded model, but the compiled metrics have yet to be built. `model.compile_metrics` will be empty until you train or evaluate the model.\n"
     ]
    },
    {
     "name": "stderr",
     "output_type": "stream",
     "text": [
      "WARNING:tensorflow:Compiled the loaded model, but the compiled metrics have yet to be built. `model.compile_metrics` will be empty until you train or evaluate the model.\n"
     ]
    },
    {
     "name": "stdout",
     "output_type": "stream",
     "text": [
      ">Saved:g_model_AtoB_000030.h5\n",
      "1/1 [==============================] - 0s 238ms/step\n",
      ">31, d1[0.563] d2[0.406] g[4.726]\n",
      "WARNING:tensorflow:Compiled the loaded model, but the compiled metrics have yet to be built. `model.compile_metrics` will be empty until you train or evaluate the model.\n"
     ]
    },
    {
     "name": "stderr",
     "output_type": "stream",
     "text": [
      "WARNING:tensorflow:Compiled the loaded model, but the compiled metrics have yet to be built. `model.compile_metrics` will be empty until you train or evaluate the model.\n"
     ]
    },
    {
     "name": "stdout",
     "output_type": "stream",
     "text": [
      ">Saved:g_model_AtoB_000031.h5\n",
      "1/1 [==============================] - 0s 263ms/step\n",
      ">32, d1[0.330] d2[0.476] g[10.939]\n",
      "WARNING:tensorflow:Compiled the loaded model, but the compiled metrics have yet to be built. `model.compile_metrics` will be empty until you train or evaluate the model.\n"
     ]
    },
    {
     "name": "stderr",
     "output_type": "stream",
     "text": [
      "WARNING:tensorflow:Compiled the loaded model, but the compiled metrics have yet to be built. `model.compile_metrics` will be empty until you train or evaluate the model.\n"
     ]
    },
    {
     "name": "stdout",
     "output_type": "stream",
     "text": [
      ">Saved:g_model_AtoB_000032.h5\n",
      "1/1 [==============================] - 0s 256ms/step\n",
      ">33, d1[0.323] d2[0.325] g[9.630]\n",
      "WARNING:tensorflow:Compiled the loaded model, but the compiled metrics have yet to be built. `model.compile_metrics` will be empty until you train or evaluate the model.\n"
     ]
    },
    {
     "name": "stderr",
     "output_type": "stream",
     "text": [
      "WARNING:tensorflow:Compiled the loaded model, but the compiled metrics have yet to be built. `model.compile_metrics` will be empty until you train or evaluate the model.\n"
     ]
    },
    {
     "name": "stdout",
     "output_type": "stream",
     "text": [
      ">Saved:g_model_AtoB_000033.h5\n",
      "1/1 [==============================] - 0s 242ms/step\n",
      ">34, d1[0.349] d2[0.253] g[8.921]\n",
      "WARNING:tensorflow:Compiled the loaded model, but the compiled metrics have yet to be built. `model.compile_metrics` will be empty until you train or evaluate the model.\n"
     ]
    },
    {
     "name": "stderr",
     "output_type": "stream",
     "text": [
      "WARNING:tensorflow:Compiled the loaded model, but the compiled metrics have yet to be built. `model.compile_metrics` will be empty until you train or evaluate the model.\n"
     ]
    },
    {
     "name": "stdout",
     "output_type": "stream",
     "text": [
      ">Saved:g_model_AtoB_000034.h5\n",
      "1/1 [==============================] - 0s 237ms/step\n",
      ">35, d1[0.370] d2[0.169] g[8.176]\n",
      "WARNING:tensorflow:Compiled the loaded model, but the compiled metrics have yet to be built. `model.compile_metrics` will be empty until you train or evaluate the model.\n"
     ]
    },
    {
     "name": "stderr",
     "output_type": "stream",
     "text": [
      "WARNING:tensorflow:Compiled the loaded model, but the compiled metrics have yet to be built. `model.compile_metrics` will be empty until you train or evaluate the model.\n"
     ]
    },
    {
     "name": "stdout",
     "output_type": "stream",
     "text": [
      ">Saved:g_model_AtoB_000035.h5\n",
      "1/1 [==============================] - 0s 258ms/step\n",
      ">36, d1[0.212] d2[0.305] g[9.572]\n",
      "WARNING:tensorflow:Compiled the loaded model, but the compiled metrics have yet to be built. `model.compile_metrics` will be empty until you train or evaluate the model.\n"
     ]
    },
    {
     "name": "stderr",
     "output_type": "stream",
     "text": [
      "WARNING:tensorflow:Compiled the loaded model, but the compiled metrics have yet to be built. `model.compile_metrics` will be empty until you train or evaluate the model.\n"
     ]
    },
    {
     "name": "stdout",
     "output_type": "stream",
     "text": [
      ">Saved:g_model_AtoB_000036.h5\n",
      "1/1 [==============================] - 0s 216ms/step\n",
      ">37, d1[0.487] d2[0.323] g[12.068]\n",
      "WARNING:tensorflow:Compiled the loaded model, but the compiled metrics have yet to be built. `model.compile_metrics` will be empty until you train or evaluate the model.\n"
     ]
    },
    {
     "name": "stderr",
     "output_type": "stream",
     "text": [
      "WARNING:tensorflow:Compiled the loaded model, but the compiled metrics have yet to be built. `model.compile_metrics` will be empty until you train or evaluate the model.\n"
     ]
    },
    {
     "name": "stdout",
     "output_type": "stream",
     "text": [
      ">Saved:g_model_AtoB_000037.h5\n",
      "1/1 [==============================] - 0s 260ms/step\n",
      ">38, d1[0.204] d2[0.204] g[8.222]\n",
      "WARNING:tensorflow:Compiled the loaded model, but the compiled metrics have yet to be built. `model.compile_metrics` will be empty until you train or evaluate the model.\n"
     ]
    },
    {
     "name": "stderr",
     "output_type": "stream",
     "text": [
      "WARNING:tensorflow:Compiled the loaded model, but the compiled metrics have yet to be built. `model.compile_metrics` will be empty until you train or evaluate the model.\n"
     ]
    },
    {
     "name": "stdout",
     "output_type": "stream",
     "text": [
      ">Saved:g_model_AtoB_000038.h5\n",
      "1/1 [==============================] - 0s 260ms/step\n",
      ">39, d1[0.148] d2[0.059] g[9.301]\n",
      "WARNING:tensorflow:Compiled the loaded model, but the compiled metrics have yet to be built. `model.compile_metrics` will be empty until you train or evaluate the model.\n"
     ]
    },
    {
     "name": "stderr",
     "output_type": "stream",
     "text": [
      "WARNING:tensorflow:Compiled the loaded model, but the compiled metrics have yet to be built. `model.compile_metrics` will be empty until you train or evaluate the model.\n"
     ]
    },
    {
     "name": "stdout",
     "output_type": "stream",
     "text": [
      ">Saved:g_model_AtoB_000039.h5\n",
      "1/1 [==============================] - 0s 232ms/step\n",
      ">40, d1[0.094] d2[0.037] g[9.197]\n",
      "WARNING:tensorflow:Compiled the loaded model, but the compiled metrics have yet to be built. `model.compile_metrics` will be empty until you train or evaluate the model.\n"
     ]
    },
    {
     "name": "stderr",
     "output_type": "stream",
     "text": [
      "WARNING:tensorflow:Compiled the loaded model, but the compiled metrics have yet to be built. `model.compile_metrics` will be empty until you train or evaluate the model.\n"
     ]
    },
    {
     "name": "stdout",
     "output_type": "stream",
     "text": [
      ">Saved:g_model_AtoB_000040.h5\n",
      "1/1 [==============================] - 0s 226ms/step\n",
      ">41, d1[0.246] d2[1.342] g[5.031]\n",
      "WARNING:tensorflow:Compiled the loaded model, but the compiled metrics have yet to be built. `model.compile_metrics` will be empty until you train or evaluate the model.\n"
     ]
    },
    {
     "name": "stderr",
     "output_type": "stream",
     "text": [
      "WARNING:tensorflow:Compiled the loaded model, but the compiled metrics have yet to be built. `model.compile_metrics` will be empty until you train or evaluate the model.\n"
     ]
    },
    {
     "name": "stdout",
     "output_type": "stream",
     "text": [
      ">Saved:g_model_AtoB_000041.h5\n",
      "1/1 [==============================] - 0s 243ms/step\n",
      ">42, d1[0.206] d2[0.425] g[10.546]\n",
      "WARNING:tensorflow:Compiled the loaded model, but the compiled metrics have yet to be built. `model.compile_metrics` will be empty until you train or evaluate the model.\n"
     ]
    },
    {
     "name": "stderr",
     "output_type": "stream",
     "text": [
      "WARNING:tensorflow:Compiled the loaded model, but the compiled metrics have yet to be built. `model.compile_metrics` will be empty until you train or evaluate the model.\n"
     ]
    },
    {
     "name": "stdout",
     "output_type": "stream",
     "text": [
      ">Saved:g_model_AtoB_000042.h5\n",
      "1/1 [==============================] - 0s 281ms/step\n",
      ">43, d1[0.353] d2[0.246] g[8.272]\n",
      "WARNING:tensorflow:Compiled the loaded model, but the compiled metrics have yet to be built. `model.compile_metrics` will be empty until you train or evaluate the model.\n"
     ]
    },
    {
     "name": "stderr",
     "output_type": "stream",
     "text": [
      "WARNING:tensorflow:Compiled the loaded model, but the compiled metrics have yet to be built. `model.compile_metrics` will be empty until you train or evaluate the model.\n"
     ]
    },
    {
     "name": "stdout",
     "output_type": "stream",
     "text": [
      ">Saved:g_model_AtoB_000043.h5\n",
      "1/1 [==============================] - 0s 273ms/step\n",
      ">44, d1[0.624] d2[0.245] g[10.348]\n",
      "WARNING:tensorflow:Compiled the loaded model, but the compiled metrics have yet to be built. `model.compile_metrics` will be empty until you train or evaluate the model.\n"
     ]
    },
    {
     "name": "stderr",
     "output_type": "stream",
     "text": [
      "WARNING:tensorflow:Compiled the loaded model, but the compiled metrics have yet to be built. `model.compile_metrics` will be empty until you train or evaluate the model.\n"
     ]
    },
    {
     "name": "stdout",
     "output_type": "stream",
     "text": [
      ">Saved:g_model_AtoB_000044.h5\n",
      "1/1 [==============================] - 0s 261ms/step\n",
      ">45, d1[0.245] d2[0.181] g[7.861]\n",
      "WARNING:tensorflow:Compiled the loaded model, but the compiled metrics have yet to be built. `model.compile_metrics` will be empty until you train or evaluate the model.\n"
     ]
    },
    {
     "name": "stderr",
     "output_type": "stream",
     "text": [
      "WARNING:tensorflow:Compiled the loaded model, but the compiled metrics have yet to be built. `model.compile_metrics` will be empty until you train or evaluate the model.\n"
     ]
    },
    {
     "name": "stdout",
     "output_type": "stream",
     "text": [
      ">Saved:g_model_AtoB_000045.h5\n",
      "1/1 [==============================] - 0s 276ms/step\n",
      ">46, d1[0.392] d2[0.268] g[4.932]\n",
      "WARNING:tensorflow:Compiled the loaded model, but the compiled metrics have yet to be built. `model.compile_metrics` will be empty until you train or evaluate the model.\n"
     ]
    },
    {
     "name": "stderr",
     "output_type": "stream",
     "text": [
      "WARNING:tensorflow:Compiled the loaded model, but the compiled metrics have yet to be built. `model.compile_metrics` will be empty until you train or evaluate the model.\n"
     ]
    },
    {
     "name": "stdout",
     "output_type": "stream",
     "text": [
      ">Saved:g_model_AtoB_000046.h5\n",
      "1/1 [==============================] - 0s 281ms/step\n",
      ">47, d1[0.157] d2[0.142] g[11.690]\n",
      "WARNING:tensorflow:Compiled the loaded model, but the compiled metrics have yet to be built. `model.compile_metrics` will be empty until you train or evaluate the model.\n"
     ]
    },
    {
     "name": "stderr",
     "output_type": "stream",
     "text": [
      "WARNING:tensorflow:Compiled the loaded model, but the compiled metrics have yet to be built. `model.compile_metrics` will be empty until you train or evaluate the model.\n"
     ]
    },
    {
     "name": "stdout",
     "output_type": "stream",
     "text": [
      ">Saved:g_model_AtoB_000047.h5\n",
      "1/1 [==============================] - 0s 295ms/step\n",
      ">48, d1[0.309] d2[0.581] g[7.418]\n",
      "WARNING:tensorflow:Compiled the loaded model, but the compiled metrics have yet to be built. `model.compile_metrics` will be empty until you train or evaluate the model.\n"
     ]
    },
    {
     "name": "stderr",
     "output_type": "stream",
     "text": [
      "WARNING:tensorflow:Compiled the loaded model, but the compiled metrics have yet to be built. `model.compile_metrics` will be empty until you train or evaluate the model.\n"
     ]
    },
    {
     "name": "stdout",
     "output_type": "stream",
     "text": [
      ">Saved:g_model_AtoB_000048.h5\n",
      "1/1 [==============================] - 0s 306ms/step\n",
      ">49, d1[0.163] d2[0.221] g[10.855]\n",
      "WARNING:tensorflow:Compiled the loaded model, but the compiled metrics have yet to be built. `model.compile_metrics` will be empty until you train or evaluate the model.\n"
     ]
    },
    {
     "name": "stderr",
     "output_type": "stream",
     "text": [
      "WARNING:tensorflow:Compiled the loaded model, but the compiled metrics have yet to be built. `model.compile_metrics` will be empty until you train or evaluate the model.\n"
     ]
    },
    {
     "name": "stdout",
     "output_type": "stream",
     "text": [
      ">Saved:g_model_AtoB_000049.h5\n",
      "1/1 [==============================] - 0s 284ms/step\n",
      ">50, d1[0.235] d2[0.098] g[10.404]\n",
      "1/1 [==============================] - 0s 471ms/step\n",
      "WARNING:tensorflow:Compiled the loaded model, but the compiled metrics have yet to be built. `model.compile_metrics` will be empty until you train or evaluate the model.\n"
     ]
    },
    {
     "name": "stderr",
     "output_type": "stream",
     "text": [
      "WARNING:tensorflow:Compiled the loaded model, but the compiled metrics have yet to be built. `model.compile_metrics` will be empty until you train or evaluate the model.\n"
     ]
    },
    {
     "name": "stdout",
     "output_type": "stream",
     "text": [
      ">Saved: plot_000050.png and model_000050.h5\n",
      "WARNING:tensorflow:Compiled the loaded model, but the compiled metrics have yet to be built. `model.compile_metrics` will be empty until you train or evaluate the model.\n"
     ]
    },
    {
     "name": "stderr",
     "output_type": "stream",
     "text": [
      "WARNING:tensorflow:Compiled the loaded model, but the compiled metrics have yet to be built. `model.compile_metrics` will be empty until you train or evaluate the model.\n"
     ]
    },
    {
     "name": "stdout",
     "output_type": "stream",
     "text": [
      ">Saved:g_model_AtoB_000050.h5\n"
     ]
    }
   ],
   "source": [
    "from numpy import load\n",
    "from numpy import zeros\n",
    "from numpy import ones\n",
    "from numpy.random import randint\n",
    "from keras.optimizers import Adam\n",
    "from keras.initializers import RandomNormal\n",
    "from keras.models import Model\n",
    "from keras.layers import Input\n",
    "from keras.layers import Conv2D\n",
    "from keras.layers import Conv2DTranspose\n",
    "from keras.layers import LeakyReLU\n",
    "from keras.layers import Activation\n",
    "from keras.layers import Concatenate\n",
    "from keras.layers import Dropout\n",
    "from keras.layers import BatchNormalization\n",
    "from keras.layers import LeakyReLU\n",
    "from matplotlib import pyplot\n",
    " \n",
    "# define the discriminator model\n",
    "def define_discriminator(image_shape):\n",
    " # weight initialization\n",
    " init = RandomNormal(stddev=0.02)\n",
    " # source image input\n",
    " in_src_image = Input(shape=image_shape)\n",
    " # target image input\n",
    " in_target_image = Input(shape=image_shape)\n",
    " # concatenate images channel-wise\n",
    " merged = Concatenate()([in_src_image, in_target_image])\n",
    " # C64\n",
    " d = Conv2D(64, (4,4), strides=(2,2), padding='same', kernel_initializer=init)(merged)\n",
    " d = LeakyReLU(alpha=0.2)(d)\n",
    " # C128\n",
    " d = Conv2D(128, (4,4), strides=(2,2), padding='same', kernel_initializer=init)(d)\n",
    " d = BatchNormalization()(d)\n",
    " d = LeakyReLU(alpha=0.2)(d)\n",
    " # C256\n",
    " d = Conv2D(256, (4,4), strides=(2,2), padding='same', kernel_initializer=init)(d)\n",
    " d = BatchNormalization()(d)\n",
    " d = LeakyReLU(alpha=0.2)(d)\n",
    " # C512\n",
    " d = Conv2D(512, (4,4), strides=(2,2), padding='same', kernel_initializer=init)(d)\n",
    " d = BatchNormalization()(d)\n",
    " d = LeakyReLU(alpha=0.2)(d)\n",
    " # second last output layer\n",
    " d = Conv2D(512, (4,4), padding='same', kernel_initializer=init)(d)\n",
    " d = BatchNormalization()(d)\n",
    " d = LeakyReLU(alpha=0.2)(d)\n",
    " # patch output\n",
    " d = Conv2D(1, (4,4), padding='same', kernel_initializer=init)(d)\n",
    " patch_out = Activation('sigmoid')(d)\n",
    " # define model\n",
    " model = Model([in_src_image, in_target_image], patch_out)\n",
    " # compile model\n",
    " opt = Adam(lr=0.0002, beta_1=0.5)\n",
    " model.compile(loss='binary_crossentropy', optimizer=opt, loss_weights=[0.5])\n",
    " return model\n",
    " \n",
    "# define an encoder block\n",
    "def define_encoder_block(layer_in, n_filters, batchnorm=True):\n",
    " # weight initialization\n",
    " init = RandomNormal(stddev=0.02)\n",
    " # add downsampling layer\n",
    " g = Conv2D(n_filters, (4,4), strides=(2,2), padding='same', kernel_initializer=init)(layer_in)\n",
    " # conditionally add batch normalization\n",
    " if batchnorm:\n",
    "   g = BatchNormalization()(g, training=True)\n",
    " # leaky relu activation\n",
    " g = LeakyReLU(alpha=0.2)(g)\n",
    " return g\n",
    " \n",
    "# define a decoder block\n",
    "def decoder_block(layer_in, skip_in, n_filters, dropout=True):\n",
    " # weight initialization\n",
    " init = RandomNormal(stddev=0.02)\n",
    " # add upsampling layer\n",
    " g = Conv2DTranspose(n_filters, (4,4), strides=(2,2), padding='same', kernel_initializer=init)(layer_in)\n",
    " # add batch normalization\n",
    " g = BatchNormalization()(g, training=True)\n",
    " # conditionally add dropout\n",
    " if dropout:\n",
    "   g = Dropout(0.5)(g, training=True)\n",
    " # merge with skip connection\n",
    " g = Concatenate()([g, skip_in])\n",
    " # relu activation\n",
    " g = Activation('relu')(g)\n",
    " return g\n",
    " \n",
    "# define the standalone generator model\n",
    "def define_generator(image_shape=(256,256,3)):\n",
    " # weight initialization\n",
    " init = RandomNormal(stddev=0.02)\n",
    " # image input\n",
    " in_image = Input(shape=image_shape)\n",
    " # encoder model\n",
    " e1 = define_encoder_block(in_image, 64, batchnorm=False)\n",
    " e2 = define_encoder_block(e1, 128)\n",
    " e3 = define_encoder_block(e2, 256)\n",
    " e4 = define_encoder_block(e3, 512)\n",
    " e5 = define_encoder_block(e4, 512)\n",
    " e6 = define_encoder_block(e5, 512)\n",
    " e7 = define_encoder_block(e6, 512)\n",
    " # bottleneck, no batch norm and relu\n",
    " b = Conv2D(512, (4,4), strides=(2,2), padding='same', kernel_initializer=init)(e7)\n",
    " b = Activation('relu')(b)\n",
    " # decoder model\n",
    " d1 = decoder_block(b, e7, 512)\n",
    " d2 = decoder_block(d1, e6, 512)\n",
    " d3 = decoder_block(d2, e5, 512)\n",
    " d4 = decoder_block(d3, e4, 512, dropout=False)\n",
    " d5 = decoder_block(d4, e3, 256, dropout=False)\n",
    " d6 = decoder_block(d5, e2, 128, dropout=False)\n",
    " d7 = decoder_block(d6, e1, 64, dropout=False)\n",
    " # output\n",
    " g = Conv2DTranspose(3, (4,4), strides=(2,2), padding='same', kernel_initializer=init)(d7)\n",
    " out_image = Activation('tanh')(g)\n",
    " # define model\n",
    " model = Model(in_image, out_image)\n",
    " return model\n",
    " \n",
    "# define the combined generator and discriminator model, for updating the generator\n",
    "def define_gan(g_model, d_model, image_shape):\n",
    " # make weights in the discriminator not trainable\n",
    " for layer in d_model.layers:\n",
    "   if not isinstance(layer, BatchNormalization):\n",
    "      layer.trainable = False\n",
    " # define the source image\n",
    " in_src = Input(shape=image_shape)\n",
    " # connect the source image to the generator input\n",
    " gen_out = g_model(in_src)\n",
    " # connect the source input and generator output to the discriminator input\n",
    " dis_out = d_model([in_src, gen_out])\n",
    " # src image as input, generated image and classification output\n",
    " model = Model(in_src, [dis_out, gen_out])\n",
    " # compile model\n",
    " opt = Adam(lr=0.0002, beta_1=0.5)\n",
    " model.compile(loss=['binary_crossentropy', 'mae'], optimizer=opt, loss_weights=[1,100])\n",
    " return model\n",
    " \n",
    "# load and prepare training images\n",
    "def load_real_samples(filename):\n",
    " # load compressed arrays\n",
    " data = load(filename)\n",
    " # unpack arrays\n",
    " X1, X2 = data['arr_0'], data['arr_1']\n",
    " # scale from [0,255] to [-1,1]\n",
    " X1 = (X1 - 127.5) / 127.5\n",
    " X2 = (X2 - 127.5) / 127.5\n",
    " return [X1, X2]\n",
    " \n",
    "# select a batch of random samples, returns images and target\n",
    "def generate_real_samples(dataset, n_samples, patch_shape):\n",
    " # unpack dataset\n",
    " trainA, trainB = dataset\n",
    " # choose random instances\n",
    " ix = randint(0, trainA.shape[0], n_samples)\n",
    " # retrieve selected images\n",
    " X1, X2 = trainA[ix], trainB[ix]\n",
    " # generate 'real' class labels (1)\n",
    " y = ones((n_samples, patch_shape, patch_shape, 1))\n",
    " return [X1, X2], y\n",
    " \n",
    "# generate a batch of images, returns images and targets\n",
    "def generate_fake_samples(g_model, samples, patch_shape):\n",
    " # generate fake instance\n",
    " X = g_model.predict(samples)\n",
    " # create 'fake' class labels (0)\n",
    " y = zeros((len(X), patch_shape, patch_shape, 1))\n",
    " return X, y\n",
    " \n",
    "# generate samples and save as a plot and save the model\n",
    "def summarize_performance(step, g_model, dataset, n_samples=3):\n",
    " # select a sample of input images\n",
    " [X_realA, X_realB], _ = generate_real_samples(dataset, n_samples, 1)\n",
    " # generate a batch of fake samples\n",
    " X_fakeB, _ = generate_fake_samples(g_model, X_realA, 1)\n",
    " # scale all pixels from [-1,1] to [0,1]\n",
    " X_realA = (X_realA + 1) / 2.0\n",
    " X_realB = (X_realB + 1) / 2.0\n",
    " X_fakeB = (X_fakeB + 1) / 2.0\n",
    " # plot real source images\n",
    " for i in range(n_samples):\n",
    "   pyplot.subplot(3, n_samples, 1 + i)\n",
    "   pyplot.axis('off')\n",
    "   pyplot.imshow(X_realA[i])\n",
    " # plot generated target image\n",
    " for i in range(n_samples):\n",
    "   pyplot.subplot(3, n_samples, 1 + n_samples + i)\n",
    "   pyplot.axis('off')\n",
    "   pyplot.imshow(X_fakeB[i])\n",
    " # plot real target image\n",
    " for i in range(n_samples):\n",
    "   pyplot.subplot(3, n_samples, 1 + n_samples*2 + i)\n",
    "   pyplot.axis('off')\n",
    "   pyplot.imshow(X_realB[i])\n",
    " # save plot to file\n",
    " filename1 = 'plot_%06d.png' % (step+1)\n",
    " pyplot.savefig(filename1)\n",
    " pyplot.close()\n",
    " # save the generator model\n",
    " filename2 = 'model_%06d.h5' % (step+1)\n",
    " g_model.save(filename2)\n",
    " print('>Saved: %s and %s' % (filename1, filename2))\n",
    "def save_models(step, g_model_AtoB):\n",
    "\t# save the first generator model\n",
    "\tfilename1 = 'g_model_AtoB_%06d.h5' % (step+1)\n",
    "\tg_model_AtoB.save(filename1)\n",
    "\t# save the second generator model\n",
    "\tprint('>Saved:%s' % (filename1))\n",
    " \n",
    "# train pix2pix models\n",
    "def train(d_model, g_model, gan_model, dataset, n_epochs=10, n_batch=1):\n",
    " # determine the output square shape of the discriminator\n",
    " n_patch = d_model.output_shape[1]\n",
    " # unpack dataset\n",
    " trainA, trainB = dataset\n",
    " # calculate the number of batches per training epoch\n",
    " bat_per_epo = int(len(trainA) / n_batch)\n",
    " # calculate the number of training iterations\n",
    " n_steps = bat_per_epo * n_epochs\n",
    " # manually enumerate epochs\n",
    " for i in range(n_steps):\n",
    " # select a batch of real samples\n",
    "    [X_realA, X_realB], y_real = generate_real_samples(dataset, n_batch, n_patch)\n",
    " # generate a batch of fake samples\n",
    "    X_fakeB, y_fake = generate_fake_samples(g_model, X_realA, n_patch)\n",
    " # update discriminator for real samples\n",
    "    d_loss1 = d_model.train_on_batch([X_realA, X_realB], y_real)\n",
    " # update discriminator for generated samples\n",
    "    d_loss2 = d_model.train_on_batch([X_realA, X_fakeB], y_fake)\n",
    " # update the generator\n",
    "    g_loss, _, _ = gan_model.train_on_batch(X_realA, [y_real, X_realB])\n",
    " # summarize performance\n",
    "    print('>%d, d1[%.3f] d2[%.3f] g[%.3f]' % (i+1, d_loss1, d_loss2, g_loss))\n",
    " # summarize model performance\n",
    "    if (i+1) % (bat_per_epo * 10) == 0:\n",
    "        summarize_performance(i, g_model, dataset)\n",
    "    save_models(i, g_model)\n",
    " \n",
    "# load image data\n",
    "dataset = load_real_samples('pmwtoir1_256.npz')\n",
    "print('Loaded', dataset[0].shape, dataset[1].shape)\n",
    "# define input shape based on the loaded dataset\n",
    "image_shape = dataset[0].shape[1:]\n",
    "# define the models\n",
    "d_model = define_discriminator(image_shape)\n",
    "g_model = define_generator(image_shape)\n",
    "# define the composite model\n",
    "gan_model = define_gan(g_model, d_model, image_shape)\n",
    "# train model\n",
    "train(d_model, g_model, gan_model, dataset)"
   ]
  },
  {
   "cell_type": "code",
   "execution_count": null,
   "metadata": {},
   "outputs": [],
   "source": []
  }
 ],
 "metadata": {
  "kernelspec": {
   "display_name": "Python 3",
   "language": "python",
   "name": "python3"
  },
  "language_info": {
   "codemirror_mode": {
    "name": "ipython",
    "version": 3
   },
   "file_extension": ".py",
   "mimetype": "text/x-python",
   "name": "python",
   "nbconvert_exporter": "python",
   "pygments_lexer": "ipython3",
   "version": "3.11.4"
  }
 },
 "nbformat": 4,
 "nbformat_minor": 2
}
