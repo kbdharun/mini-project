{
 "cells": [
  {
   "cell_type": "code",
   "execution_count": 1,
   "metadata": {},
   "outputs": [
    {
     "name": "stdout",
     "output_type": "stream",
     "text": [
      "WARNING:tensorflow:From c:\\Users\\nandu\\AppData\\Local\\Programs\\Python\\Python311\\Lib\\site-packages\\keras\\src\\losses.py:2976: The name tf.losses.sparse_softmax_cross_entropy is deprecated. Please use tf.compat.v1.losses.sparse_softmax_cross_entropy instead.\n",
      "\n",
      "[[[  0.   0.   0.]\n",
      "  [  0.   0.   0.]\n",
      "  [  0.   0.   0.]\n",
      "  ...\n",
      "  [152. 152. 152.]\n",
      "  [152. 152. 152.]\n",
      "  [153. 153. 153.]]\n",
      "\n",
      " [[  0.   0.   0.]\n",
      "  [  0.   0.   0.]\n",
      "  [  0.   0.   0.]\n",
      "  ...\n",
      "  [152. 152. 152.]\n",
      "  [152. 152. 152.]\n",
      "  [153. 153. 153.]]\n",
      "\n",
      " [[  0.   0.   0.]\n",
      "  [  0.   0.   0.]\n",
      "  [  0.   0.   0.]\n",
      "  ...\n",
      "  [152. 152. 152.]\n",
      "  [152. 152. 152.]\n",
      "  [153. 153. 153.]]\n",
      "\n",
      " ...\n",
      "\n",
      " [[  0.   0.   0.]\n",
      "  [  0.   0.   0.]\n",
      "  [  0.   0.   0.]\n",
      "  ...\n",
      "  [138. 138. 138.]\n",
      "  [138. 138. 138.]\n",
      "  [140. 140. 140.]]\n",
      "\n",
      " [[  0.   0.   0.]\n",
      "  [  0.   0.   0.]\n",
      "  [  0.   0.   0.]\n",
      "  ...\n",
      "  [138. 138. 138.]\n",
      "  [138. 138. 138.]\n",
      "  [140. 140. 140.]]\n",
      "\n",
      " [[  0.   0.   0.]\n",
      "  [  0.   0.   0.]\n",
      "  [  0.   0.   0.]\n",
      "  ...\n",
      "  [139. 139. 139.]\n",
      "  [140. 140. 140.]\n",
      "  [141. 141. 141.]]]\n"
     ]
    }
   ],
   "source": [
    "import tensorflow as tf\n",
    "import os\n",
    "from tensorflow.keras.preprocessing.image import load_img, img_to_array\n",
    "\n",
    "# Define the path to your directory\n",
    "directory = r'C:\\Users\\nandu\\data\\train'\n",
    "\n",
    "# Get a list of all the file paths\n",
    "image_paths = [os.path.join(directory, img) for img in os.listdir(directory)]\n",
    "\n",
    "# Load the images\n",
    "images = [img_to_array(load_img(img_path,target_size=(256, 256))) for img_path in image_paths]\n",
    "print(images[0])\n",
    "# Now `images` is a list of numpy arrays representing your images"
   ]
  }
 ],
 "metadata": {
  "kernelspec": {
   "display_name": "Python 3",
   "language": "python",
   "name": "python3"
  },
  "language_info": {
   "codemirror_mode": {
    "name": "ipython",
    "version": 3
   },
   "file_extension": ".py",
   "mimetype": "text/x-python",
   "name": "python",
   "nbconvert_exporter": "python",
   "pygments_lexer": "ipython3",
   "version": "3.11.4"
  }
 },
 "nbformat": 4,
 "nbformat_minor": 2
}
