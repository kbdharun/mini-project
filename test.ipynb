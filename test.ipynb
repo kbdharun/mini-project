{
 "cells": [
  {
   "cell_type": "code",
   "execution_count": null,
   "metadata": {},
   "outputs": [],
   "source": [
    "import tensorflow as tf\n",
    "import os\n",
    "from tensorflow.keras.preprocessing.image import load_img, img_to_array\n",
    "import matplotlib.pyplot as plt\n",
    "\n",
    "# Define the path to your directory\n",
    "directory = r'C:\\Users\\nandu\\data\\train'\n",
    "\n",
    "# Get a list of all the file paths\n",
    "image_paths = [os.path.join(directory, img) for img in os.listdir(directory)]\n",
    "images = [tf.image.decode_image(tf.io.read_file(img_path), channels=1) for img_path in image_paths]\n",
    "# Load the images\n",
    "# images = [img_to_array(load_img(img_path,target_size=(256, 256))) for img_path in image_paths]\n",
    "print(images[0])\n",
    "plt.imshow(images[0])\n",
    "plt.show()\n",
    "# Now `images` iss a list of numpy arrays representing your images"
   ]
  },
  {
   "cell_type": "code",
   "execution_count": null,
   "metadata": {},
   "outputs": [],
   "source": [
    "import tensorflow as tf\n",
    "import os\n",
    "from tensorflow.keras.preprocessing.image import load_img, img_to_array\n",
    "import matplotlib.pyplot as plt\n",
    "\n",
    "# Define the path to your directory\n",
    "directory = r'E:\\miniproject\\TCIRRP\\TCIRRP\\train'\n",
    "\n",
    "# Get a list of all the file paths\n",
    "image_paths = [os.path.join(directory, img) for img in os.listdir(directory)]\n",
    "\n",
    "# Load the images in grayscale\n",
    "images = [img_to_array(load_img(img_path, color_mode='grayscale', target_size=(400,200))) for img_path in image_paths]\n",
    "pmw=[]\n",
    "ir=[]\n",
    "for i in range(len(images)):\n",
    "    image1 = images[i][0:201, 0:201]\n",
    "    image2 = images[i][0:201,201 :401]\n",
    "# Display the first image\n",
    "plt.imshow(image1,cmap='gray')\n",
    "plt.show()\n",
    "# Now `images` is a list of numpy arrays representing your images in grayscale"
   ]
  },
  {
   "cell_type": "code",
   "execution_count": null,
   "metadata": {},
   "outputs": [],
   "source": [
    "print(images[0].shape)"
   ]
  },
  {
   "cell_type": "code",
   "execution_count": null,
   "metadata": {},
   "outputs": [],
   "source": [
    "print(len(images))  "
   ]
  },
  {
   "cell_type": "code",
   "execution_count": null,
   "metadata": {},
   "outputs": [],
   "source": [
    "import cv2\n",
    "import os\n",
    "import numpy as np\n",
    "\n",
    "# Define the path to your directory\n",
    "directory = r'C:\\Users\\nandu\\data\\train'\n",
    "\n",
    "# Get a list of all the file paths\n",
    "image_paths = [os.path.join(directory, img) for img in os.listdir(directory)]\n",
    "\n",
    "# Load the images in grayscale\n",
    "images = [cv2.imread(img_path, cv2.IMREAD_GRAYSCALE) for img_path in image_paths]\n",
    "pmw=[]\n",
    "ir=[]\n",
    "# cv2.imshow('image',images[0])\n",
    "for i in range(len(images)):\n",
    "    image1 = images[i][0:201, 0:201]\n",
    "    image2 = images[i][0:201,201:402]\n",
    "    pmw.append(image1)\n",
    "    ir.append(image2)\n",
    "print(pmw[0].shape)\n",
    "# Now `images` is a list of numpy arrays representing your images in grayscale"
   ]
  },
  {
   "cell_type": "code",
   "execution_count": null,
   "metadata": {},
   "outputs": [],
   "source": [
    "import matplotlib.pyplot as plt \n",
    "plt.imshow(images[0],cmap='gray')\n",
    "plt.show()"
   ]
  },
  {
   "cell_type": "code",
   "execution_count": null,
   "metadata": {},
   "outputs": [],
   "source": [
    "ax1=plt.subplot(121)\n",
    "plt.imshow(pmw[0],cmap='gray')\n",
    "plt.show()"
   ]
  },
  {
   "cell_type": "code",
   "execution_count": null,
   "metadata": {},
   "outputs": [],
   "source": [
    "plt.imshow(ir[0],cmap='gray')\n",
    "plt.show()"
   ]
  },
  {
   "cell_type": "code",
   "execution_count": null,
   "metadata": {},
   "outputs": [],
   "source": [
    "print(len(pmw))"
   ]
  },
  {
   "cell_type": "code",
   "execution_count": 18,
   "metadata": {},
   "outputs": [
    {
     "name": "stdout",
     "output_type": "stream",
     "text": [
      "tf.Tensor(\n",
      "[[0.         0.         0.         ... 0.1254902  0.10196079 0.12941177]\n",
      " [0.         0.         0.         ... 0.14117648 0.12156863 0.16470589]\n",
      " [0.         0.         0.         ... 0.16470589 0.14901961 0.18431373]\n",
      " ...\n",
      " [0.         0.         0.         ... 0.         0.         0.        ]\n",
      " [0.         0.         0.         ... 0.         0.         0.        ]\n",
      " [0.         0.         0.         ... 0.         0.         0.00392157]], shape=(201, 201), dtype=float32)\n"
     ]
    }
   ],
   "source": [
    "def normalize(data):\n",
    "    data = tf.cast(data, tf.float32) / 255.0\n",
    "    return data\n",
    "\n",
    "def preprocess_data_train(data):\n",
    "    data = normalize(data)\n",
    "    return data\n",
    "\n",
    "def preprocess_data_test(data):\n",
    "    data = normalize(data)\n",
    "    return data\n",
    "\n",
    "from tensorflow.data.experimental import AUTOTUNE\n",
    "\n",
    "# Assume 'pmw' and 'ir' are 1D lists or arrays\n",
    "# pmw = tf.data.Dataset.from_tensor_slices(pmw)\n",
    "# ir = tf.data.Dataset.from_tensor_slices(ir)\n",
    "\n",
    "pmw = pmw.cache().map(preprocess_data_train, num_parallel_calls=AUTOTUNE).shuffle(1000).batch(32)\n",
    "ir = ir.cache().map(preprocess_data_train, num_parallel_calls=AUTOTUNE).shuffle(1000).batch(32)\n",
    "\n",
    "sample_pmw = next(iter(pmw))\n",
    "print(sample_pmw[0])"
   ]
  },
  {
   "cell_type": "code",
   "execution_count": null,
   "metadata": {},
   "outputs": [],
   "source": []
  }
 ],
 "metadata": {
  "kernelspec": {
   "display_name": "Python 3",
   "language": "python",
   "name": "python3"
  },
  "language_info": {
   "codemirror_mode": {
    "name": "ipython",
    "version": 3
   },
   "file_extension": ".py",
   "mimetype": "text/x-python",
   "name": "python",
   "nbconvert_exporter": "python",
   "pygments_lexer": "ipython3",
   "version": "3.11.4"
  }
 },
 "nbformat": 4,
 "nbformat_minor": 2
}
